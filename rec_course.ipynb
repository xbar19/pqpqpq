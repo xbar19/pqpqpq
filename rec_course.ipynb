{
 "cells": [
  {
   "cell_type": "code",
   "execution_count": 19,
   "id": "1e2f9214-d8f3-4ddd-900f-80411136bd93",
   "metadata": {},
   "outputs": [],
   "source": [
    "import rectools\n",
    "from rectools.dataset import Dataset\n",
    "from rectools.columns import Columns\n",
    "import pandas as pd\n",
    "import numpy as np\n",
    "from random import randint"
   ]
  },
  {
   "cell_type": "code",
   "execution_count": 11,
   "id": "f5878034-af00-4df9-8f51-6a525d9194b1",
   "metadata": {},
   "outputs": [],
   "source": [
    "data = pd.read_csv(\"C:/Users/elise/Downloads/rec_train.csv\", \n",
    "                 header=None,\n",
    "                 names=[Columns.User, Columns.Item])"
   ]
  },
  {
   "cell_type": "code",
   "execution_count": 41,
   "id": "b4fe4c98-08fa-4163-99af-1f0e40a18f4c",
   "metadata": {},
   "outputs": [
    {
     "data": {
      "text/plain": [
       "item_id\n",
       "7      519\n",
       "1      510\n",
       "15     498\n",
       "34     322\n",
       "3      304\n",
       "      ... \n",
       "206      1\n",
       "120      1\n",
       "154      1\n",
       "26       1\n",
       "183      1\n",
       "Name: count, Length: 172, dtype: int64"
      ]
     },
     "execution_count": 41,
     "metadata": {},
     "output_type": "execute_result"
    }
   ],
   "source": [
    "data[Columns.Item].value_counts()"
   ]
  },
  {
   "cell_type": "code",
   "execution_count": 13,
   "id": "10effe8b-5a99-47a5-84a8-8d28384176a7",
   "metadata": {},
   "outputs": [],
   "source": [
    "df = data.iloc[1:]"
   ]
  },
  {
   "cell_type": "code",
   "execution_count": 18,
   "id": "41f92182-6107-4304-973a-fde9e74f913d",
   "metadata": {},
   "outputs": [
    {
     "name": "stderr",
     "output_type": "stream",
     "text": [
      "C:\\Users\\elise\\AppData\\Local\\Temp\\ipykernel_6792\\3826501316.py:1: SettingWithCopyWarning: \n",
      "A value is trying to be set on a copy of a slice from a DataFrame.\n",
      "Try using .loc[row_indexer,col_indexer] = value instead\n",
      "\n",
      "See the caveats in the documentation: https://pandas.pydata.org/pandas-docs/stable/user_guide/indexing.html#returning-a-view-versus-a-copy\n",
      "  df[Columns.Weight] = 1\n"
     ]
    }
   ],
   "source": [
    "df[Columns.Weight] = 1"
   ]
  },
  {
   "cell_type": "code",
   "execution_count": 20,
   "id": "d869fb0a-012f-4768-8749-db3bf93251c1",
   "metadata": {},
   "outputs": [
    {
     "name": "stderr",
     "output_type": "stream",
     "text": [
      "C:\\Users\\elise\\AppData\\Local\\Temp\\ipykernel_6792\\2651942712.py:1: SettingWithCopyWarning: \n",
      "A value is trying to be set on a copy of a slice from a DataFrame.\n",
      "Try using .loc[row_indexer,col_indexer] = value instead\n",
      "\n",
      "See the caveats in the documentation: https://pandas.pydata.org/pandas-docs/stable/user_guide/indexing.html#returning-a-view-versus-a-copy\n",
      "  df[Columns.Datetime] = 52\n"
     ]
    }
   ],
   "source": [
    "df[Columns.Datetime] = 52"
   ]
  },
  {
   "cell_type": "code",
   "execution_count": null,
   "id": "86d04a9c-d098-4b14-a222-f26df05b1789",
   "metadata": {},
   "outputs": [],
   "source": []
  },
  {
   "cell_type": "code",
   "execution_count": 22,
   "id": "f9e0bdd3-42eb-4ef2-8119-a9db2e4de138",
   "metadata": {},
   "outputs": [],
   "source": [
    "dataset = Dataset.construct(df)"
   ]
  },
  {
   "cell_type": "code",
   "execution_count": 24,
   "id": "a644c763-d001-44e2-a8f0-44391b10afaa",
   "metadata": {},
   "outputs": [],
   "source": [
    "from rectools.models.lightfm import LightFMWrapperModel\n",
    "from rectools.models.lightfm import LightFM"
   ]
  },
  {
   "cell_type": "code",
   "execution_count": 48,
   "id": "c4974a94-87fe-4753-a963-a6ac3184257c",
   "metadata": {},
   "outputs": [],
   "source": [
    "lightfm_model = LightFM()\n",
    "model = LightFMWrapperModel(lightfm_model, epochs=100, num_threads=16, verbose=1)"
   ]
  },
  {
   "cell_type": "code",
   "execution_count": 49,
   "id": "fa57988e-6c75-45f7-9332-6aa69dfc9645",
   "metadata": {},
   "outputs": [
    {
     "name": "stderr",
     "output_type": "stream",
     "text": [
      "Epoch: 100%|████████████████████████████████████████████████████████████████████████| 100/100 [00:00<00:00, 127.28it/s]\n"
     ]
    },
    {
     "data": {
      "text/plain": [
       "<rectools.models.lightfm.LightFMWrapperModel at 0x1cdabdc19d0>"
      ]
     },
     "execution_count": 49,
     "metadata": {},
     "output_type": "execute_result"
    }
   ],
   "source": [
    "model.fit(dataset)"
   ]
  },
  {
   "cell_type": "code",
   "execution_count": 50,
   "id": "25ea632d-83f9-4088-ae5e-1976baebe376",
   "metadata": {},
   "outputs": [
    {
     "data": {
      "text/html": [
       "<div>\n",
       "<style scoped>\n",
       "    .dataframe tbody tr th:only-of-type {\n",
       "        vertical-align: middle;\n",
       "    }\n",
       "\n",
       "    .dataframe tbody tr th {\n",
       "        vertical-align: top;\n",
       "    }\n",
       "\n",
       "    .dataframe thead th {\n",
       "        text-align: right;\n",
       "    }\n",
       "</style>\n",
       "<table border=\"1\" class=\"dataframe\">\n",
       "  <thead>\n",
       "    <tr style=\"text-align: right;\">\n",
       "      <th></th>\n",
       "      <th>user_id</th>\n",
       "      <th>course_id_1</th>\n",
       "      <th>course_id_2</th>\n",
       "      <th>course_id_3</th>\n",
       "    </tr>\n",
       "  </thead>\n",
       "  <tbody>\n",
       "    <tr>\n",
       "      <th>1</th>\n",
       "      <td>78</td>\n",
       "      <td>0</td>\n",
       "      <td>0</td>\n",
       "      <td>0</td>\n",
       "    </tr>\n",
       "    <tr>\n",
       "      <th>2</th>\n",
       "      <td>81</td>\n",
       "      <td>0</td>\n",
       "      <td>0</td>\n",
       "      <td>0</td>\n",
       "    </tr>\n",
       "    <tr>\n",
       "      <th>3</th>\n",
       "      <td>120</td>\n",
       "      <td>0</td>\n",
       "      <td>0</td>\n",
       "      <td>0</td>\n",
       "    </tr>\n",
       "    <tr>\n",
       "      <th>4</th>\n",
       "      <td>123</td>\n",
       "      <td>0</td>\n",
       "      <td>0</td>\n",
       "      <td>0</td>\n",
       "    </tr>\n",
       "    <tr>\n",
       "      <th>5</th>\n",
       "      <td>150</td>\n",
       "      <td>0</td>\n",
       "      <td>0</td>\n",
       "      <td>0</td>\n",
       "    </tr>\n",
       "    <tr>\n",
       "      <th>...</th>\n",
       "      <td>...</td>\n",
       "      <td>...</td>\n",
       "      <td>...</td>\n",
       "      <td>...</td>\n",
       "    </tr>\n",
       "    <tr>\n",
       "      <th>2896</th>\n",
       "      <td>185864</td>\n",
       "      <td>0</td>\n",
       "      <td>0</td>\n",
       "      <td>0</td>\n",
       "    </tr>\n",
       "    <tr>\n",
       "      <th>2897</th>\n",
       "      <td>186262</td>\n",
       "      <td>0</td>\n",
       "      <td>0</td>\n",
       "      <td>0</td>\n",
       "    </tr>\n",
       "    <tr>\n",
       "      <th>2898</th>\n",
       "      <td>186691</td>\n",
       "      <td>0</td>\n",
       "      <td>0</td>\n",
       "      <td>0</td>\n",
       "    </tr>\n",
       "    <tr>\n",
       "      <th>2899</th>\n",
       "      <td>186887</td>\n",
       "      <td>0</td>\n",
       "      <td>0</td>\n",
       "      <td>0</td>\n",
       "    </tr>\n",
       "    <tr>\n",
       "      <th>2900</th>\n",
       "      <td>187206</td>\n",
       "      <td>0</td>\n",
       "      <td>0</td>\n",
       "      <td>0</td>\n",
       "    </tr>\n",
       "  </tbody>\n",
       "</table>\n",
       "<p>2900 rows × 4 columns</p>\n",
       "</div>"
      ],
      "text/plain": [
       "     user_id course_id_1 course_id_2 course_id_3\n",
       "1         78           0           0           0\n",
       "2         81           0           0           0\n",
       "3        120           0           0           0\n",
       "4        123           0           0           0\n",
       "5        150           0           0           0\n",
       "...      ...         ...         ...         ...\n",
       "2896  185864           0           0           0\n",
       "2897  186262           0           0           0\n",
       "2898  186691           0           0           0\n",
       "2899  186887           0           0           0\n",
       "2900  187206           0           0           0\n",
       "\n",
       "[2900 rows x 4 columns]"
      ]
     },
     "execution_count": 50,
     "metadata": {},
     "output_type": "execute_result"
    }
   ],
   "source": [
    "submission1 = pd.read_csv('C:/Users/elise/Downloads/rec_submission.csv',\n",
    "                         header=None,\n",
    "                         names=[Columns.User, 'course_id_1', 'course_id_2', 'course_id_3'])\n",
    "submission1 = submission1.iloc[1:]\n",
    "submission1"
   ]
  },
  {
   "cell_type": "code",
   "execution_count": 51,
   "id": "6a0f63ce-a88f-4de9-884b-5b94ab54b475",
   "metadata": {},
   "outputs": [],
   "source": [
    "recs = model.recommend(users=submission1[Columns.User].unique(),\n",
    "                      dataset=dataset, \n",
    "                      k=3,\n",
    "                      filter_viewed=True)"
   ]
  },
  {
   "cell_type": "code",
   "execution_count": 52,
   "id": "47f1fd5a-3d02-4b72-9916-7ee10b336848",
   "metadata": {},
   "outputs": [
    {
     "data": {
      "text/html": [
       "<div>\n",
       "<style scoped>\n",
       "    .dataframe tbody tr th:only-of-type {\n",
       "        vertical-align: middle;\n",
       "    }\n",
       "\n",
       "    .dataframe tbody tr th {\n",
       "        vertical-align: top;\n",
       "    }\n",
       "\n",
       "    .dataframe thead th {\n",
       "        text-align: right;\n",
       "    }\n",
       "</style>\n",
       "<table border=\"1\" class=\"dataframe\">\n",
       "  <thead>\n",
       "    <tr style=\"text-align: right;\">\n",
       "      <th></th>\n",
       "      <th>user_id</th>\n",
       "      <th>item_id</th>\n",
       "      <th>score</th>\n",
       "      <th>rank</th>\n",
       "    </tr>\n",
       "  </thead>\n",
       "  <tbody>\n",
       "    <tr>\n",
       "      <th>0</th>\n",
       "      <td>78</td>\n",
       "      <td>7</td>\n",
       "      <td>5.935275</td>\n",
       "      <td>1</td>\n",
       "    </tr>\n",
       "    <tr>\n",
       "      <th>1</th>\n",
       "      <td>78</td>\n",
       "      <td>1</td>\n",
       "      <td>5.933095</td>\n",
       "      <td>2</td>\n",
       "    </tr>\n",
       "    <tr>\n",
       "      <th>2</th>\n",
       "      <td>78</td>\n",
       "      <td>15</td>\n",
       "      <td>5.893421</td>\n",
       "      <td>3</td>\n",
       "    </tr>\n",
       "    <tr>\n",
       "      <th>3</th>\n",
       "      <td>81</td>\n",
       "      <td>7</td>\n",
       "      <td>5.963667</td>\n",
       "      <td>1</td>\n",
       "    </tr>\n",
       "    <tr>\n",
       "      <th>4</th>\n",
       "      <td>81</td>\n",
       "      <td>15</td>\n",
       "      <td>5.932183</td>\n",
       "      <td>2</td>\n",
       "    </tr>\n",
       "    <tr>\n",
       "      <th>5</th>\n",
       "      <td>81</td>\n",
       "      <td>3</td>\n",
       "      <td>5.448052</td>\n",
       "      <td>3</td>\n",
       "    </tr>\n",
       "    <tr>\n",
       "      <th>6</th>\n",
       "      <td>120</td>\n",
       "      <td>7</td>\n",
       "      <td>5.848666</td>\n",
       "      <td>1</td>\n",
       "    </tr>\n",
       "    <tr>\n",
       "      <th>7</th>\n",
       "      <td>120</td>\n",
       "      <td>15</td>\n",
       "      <td>5.821408</td>\n",
       "      <td>2</td>\n",
       "    </tr>\n",
       "    <tr>\n",
       "      <th>8</th>\n",
       "      <td>120</td>\n",
       "      <td>34</td>\n",
       "      <td>5.404459</td>\n",
       "      <td>3</td>\n",
       "    </tr>\n",
       "    <tr>\n",
       "      <th>9</th>\n",
       "      <td>150</td>\n",
       "      <td>7</td>\n",
       "      <td>5.854123</td>\n",
       "      <td>1</td>\n",
       "    </tr>\n",
       "  </tbody>\n",
       "</table>\n",
       "</div>"
      ],
      "text/plain": [
       "  user_id item_id     score  rank\n",
       "0      78       7  5.935275     1\n",
       "1      78       1  5.933095     2\n",
       "2      78      15  5.893421     3\n",
       "3      81       7  5.963667     1\n",
       "4      81      15  5.932183     2\n",
       "5      81       3  5.448052     3\n",
       "6     120       7  5.848666     1\n",
       "7     120      15  5.821408     2\n",
       "8     120      34  5.404459     3\n",
       "9     150       7  5.854123     1"
      ]
     },
     "execution_count": 52,
     "metadata": {},
     "output_type": "execute_result"
    }
   ],
   "source": [
    "recs.head(10)"
   ]
  },
  {
   "cell_type": "code",
   "execution_count": 53,
   "id": "f8fbe689-890b-49d7-a29d-0b898460810c",
   "metadata": {
    "scrolled": true
   },
   "outputs": [
    {
     "data": {
      "text/plain": [
       "[[7, 1, 15], [7, 15, 3], [7, 15, 34], [7, 1, 15]]"
      ]
     },
     "execution_count": 53,
     "metadata": {},
     "output_type": "execute_result"
    }
   ],
   "source": [
    "preds = []\n",
    "k = 0\n",
    "lst = []\n",
    "for x in recs[Columns.Item]:\n",
    "    if len(lst) == 3:\n",
    "        preds.append(lst)\n",
    "        lst = []\n",
    "    lst.append(int(x))\n",
    "preds[0:4]"
   ]
  },
  {
   "cell_type": "code",
   "execution_count": 54,
   "id": "5c081f65-87de-4bb5-bb54-cb80d7c3688e",
   "metadata": {},
   "outputs": [
    {
     "data": {
      "text/html": [
       "<div>\n",
       "<style scoped>\n",
       "    .dataframe tbody tr th:only-of-type {\n",
       "        vertical-align: middle;\n",
       "    }\n",
       "\n",
       "    .dataframe tbody tr th {\n",
       "        vertical-align: top;\n",
       "    }\n",
       "\n",
       "    .dataframe thead th {\n",
       "        text-align: right;\n",
       "    }\n",
       "</style>\n",
       "<table border=\"1\" class=\"dataframe\">\n",
       "  <thead>\n",
       "    <tr style=\"text-align: right;\">\n",
       "      <th></th>\n",
       "      <th>user_id</th>\n",
       "      <th>course_id_1</th>\n",
       "      <th>course_id_2</th>\n",
       "      <th>course_id_3</th>\n",
       "    </tr>\n",
       "  </thead>\n",
       "  <tbody>\n",
       "    <tr>\n",
       "      <th>0</th>\n",
       "      <td>78</td>\n",
       "      <td>0</td>\n",
       "      <td>0</td>\n",
       "      <td>0</td>\n",
       "    </tr>\n",
       "    <tr>\n",
       "      <th>1</th>\n",
       "      <td>81</td>\n",
       "      <td>0</td>\n",
       "      <td>0</td>\n",
       "      <td>0</td>\n",
       "    </tr>\n",
       "    <tr>\n",
       "      <th>2</th>\n",
       "      <td>120</td>\n",
       "      <td>0</td>\n",
       "      <td>0</td>\n",
       "      <td>0</td>\n",
       "    </tr>\n",
       "    <tr>\n",
       "      <th>3</th>\n",
       "      <td>123</td>\n",
       "      <td>0</td>\n",
       "      <td>0</td>\n",
       "      <td>0</td>\n",
       "    </tr>\n",
       "    <tr>\n",
       "      <th>4</th>\n",
       "      <td>150</td>\n",
       "      <td>0</td>\n",
       "      <td>0</td>\n",
       "      <td>0</td>\n",
       "    </tr>\n",
       "  </tbody>\n",
       "</table>\n",
       "</div>"
      ],
      "text/plain": [
       "   user_id  course_id_1  course_id_2  course_id_3\n",
       "0       78            0            0            0\n",
       "1       81            0            0            0\n",
       "2      120            0            0            0\n",
       "3      123            0            0            0\n",
       "4      150            0            0            0"
      ]
     },
     "execution_count": 54,
     "metadata": {},
     "output_type": "execute_result"
    }
   ],
   "source": [
    "submission = pd.read_csv('C:/Users/elise/Downloads/rec_submission.csv')\n",
    "submission.head()"
   ]
  },
  {
   "cell_type": "code",
   "execution_count": 55,
   "id": "bfa50bf9-d5f0-4312-9db9-c62c74165a5f",
   "metadata": {},
   "outputs": [],
   "source": [
    "for i, x in enumerate(preds):\n",
    "    c1, c2, c3 = x\n",
    "    submission.iloc[i, 1] = c1\n",
    "    submission.iloc[i, 2] = c2\n",
    "    submission.iloc[i, 3] = c3"
   ]
  },
  {
   "cell_type": "code",
   "execution_count": 56,
   "id": "fb745fe6-0ffc-41cd-9a55-3d7082510f85",
   "metadata": {},
   "outputs": [
    {
     "data": {
      "text/html": [
       "<div>\n",
       "<style scoped>\n",
       "    .dataframe tbody tr th:only-of-type {\n",
       "        vertical-align: middle;\n",
       "    }\n",
       "\n",
       "    .dataframe tbody tr th {\n",
       "        vertical-align: top;\n",
       "    }\n",
       "\n",
       "    .dataframe thead th {\n",
       "        text-align: right;\n",
       "    }\n",
       "</style>\n",
       "<table border=\"1\" class=\"dataframe\">\n",
       "  <thead>\n",
       "    <tr style=\"text-align: right;\">\n",
       "      <th></th>\n",
       "      <th>user_id</th>\n",
       "      <th>course_id_1</th>\n",
       "      <th>course_id_2</th>\n",
       "      <th>course_id_3</th>\n",
       "    </tr>\n",
       "  </thead>\n",
       "  <tbody>\n",
       "    <tr>\n",
       "      <th>0</th>\n",
       "      <td>78</td>\n",
       "      <td>7</td>\n",
       "      <td>1</td>\n",
       "      <td>15</td>\n",
       "    </tr>\n",
       "    <tr>\n",
       "      <th>1</th>\n",
       "      <td>81</td>\n",
       "      <td>7</td>\n",
       "      <td>15</td>\n",
       "      <td>3</td>\n",
       "    </tr>\n",
       "    <tr>\n",
       "      <th>2</th>\n",
       "      <td>120</td>\n",
       "      <td>7</td>\n",
       "      <td>15</td>\n",
       "      <td>34</td>\n",
       "    </tr>\n",
       "    <tr>\n",
       "      <th>3</th>\n",
       "      <td>123</td>\n",
       "      <td>7</td>\n",
       "      <td>1</td>\n",
       "      <td>15</td>\n",
       "    </tr>\n",
       "    <tr>\n",
       "      <th>4</th>\n",
       "      <td>150</td>\n",
       "      <td>7</td>\n",
       "      <td>1</td>\n",
       "      <td>15</td>\n",
       "    </tr>\n",
       "  </tbody>\n",
       "</table>\n",
       "</div>"
      ],
      "text/plain": [
       "   user_id  course_id_1  course_id_2  course_id_3\n",
       "0       78            7            1           15\n",
       "1       81            7           15            3\n",
       "2      120            7           15           34\n",
       "3      123            7            1           15\n",
       "4      150            7            1           15"
      ]
     },
     "execution_count": 56,
     "metadata": {},
     "output_type": "execute_result"
    }
   ],
   "source": [
    "submission.head()"
   ]
  },
  {
   "cell_type": "code",
   "execution_count": 57,
   "id": "8ab14167-fc92-41d9-af80-c42ff4adc694",
   "metadata": {},
   "outputs": [],
   "source": [
    "submission.to_csv('C:/Users/elise/Downloads/submission_r1.csv', index=False)"
   ]
  }
 ],
 "metadata": {
  "kernelspec": {
   "display_name": "Python 3 (ipykernel)",
   "language": "python",
   "name": "python3"
  },
  "language_info": {
   "codemirror_mode": {
    "name": "ipython",
    "version": 3
   },
   "file_extension": ".py",
   "mimetype": "text/x-python",
   "name": "python",
   "nbconvert_exporter": "python",
   "pygments_lexer": "ipython3",
   "version": "3.10.12"
  }
 },
 "nbformat": 4,
 "nbformat_minor": 5
}
