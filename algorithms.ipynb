{
 "cells": [
  {
   "cell_type": "code",
   "execution_count": 12,
   "id": "e4a50d91-5a4b-413c-9edb-65c449c3a6e9",
   "metadata": {},
   "outputs": [],
   "source": [
    "def binary_search(array, target):\n",
    "    left = 0\n",
    "    right = len(array) - 1\n",
    "    while right >= left:\n",
    "        mid = (left + right) // 2\n",
    "        if array[mid] == target:\n",
    "            return mid\n",
    "        elif array[mid] > target:\n",
    "            right = mid - 1\n",
    "        elif array[mid] < target:\n",
    "            left = mid + 1\n",
    "    return -1"
   ]
  },
  {
   "cell_type": "code",
   "execution_count": 17,
   "id": "279e0a0f-62e7-44f4-b6b7-1e628d7f574a",
   "metadata": {},
   "outputs": [
    {
     "data": {
      "text/plain": [
       "2"
      ]
     },
     "execution_count": 17,
     "metadata": {},
     "output_type": "execute_result"
    }
   ],
   "source": [
    "array = [0, 212, 1223, 1224]\n",
    "binary_search(arr, 1223)"
   ]
  },
  {
   "cell_type": "code",
   "execution_count": 19,
   "id": "340384eb-0046-45e9-85d0-0f713593a410",
   "metadata": {},
   "outputs": [],
   "source": [
    "def dfs(graph, start, visited=None):\n",
    "    if visited is None:\n",
    "        visited = set()\n",
    "    visited.add(start)\n",
    "    print(start)\n",
    "    for neighbour in graph[start]:\n",
    "        if neighbour not in visited:\n",
    "            dfs(graph, neighbour, visited)"
   ]
  },
  {
   "cell_type": "code",
   "execution_count": 39,
   "id": "c6e4f60e-49b0-4fa2-8619-1276b1e973ce",
   "metadata": {},
   "outputs": [],
   "source": [
    "graph = {\n",
    "    0: [1, 2, 3],\n",
    "    1: [0, 2],\n",
    "    2: [0, 1, 3],\n",
    "    3: [0, 2]\n",
    "}"
   ]
  },
  {
   "cell_type": "code",
   "execution_count": 33,
   "id": "71b98cfc-5411-4c2a-a48e-1f173f252587",
   "metadata": {},
   "outputs": [
    {
     "name": "stdout",
     "output_type": "stream",
     "text": [
      "1\n",
      "0\n",
      "2\n",
      "3\n"
     ]
    }
   ],
   "source": [
    "dfs(graph, 1)"
   ]
  },
  {
   "cell_type": "code",
   "execution_count": 28,
   "id": "0760c249-5fe7-444f-b310-6fe20fdc630a",
   "metadata": {},
   "outputs": [],
   "source": [
    "from collections import deque\n",
    "def bfs(graph, start):\n",
    "    visited = set()\n",
    "    visited.add(start)\n",
    "    queue = deque()\n",
    "    queue.append(start)\n",
    "    while queue:\n",
    "        n = queue.popleft()\n",
    "        print(n)\n",
    "        for neighbour in graph[n]:\n",
    "            if neighbour not in visited:\n",
    "                queue.append(neighbour)\n",
    "                visited.add(neighbour)"
   ]
  },
  {
   "cell_type": "code",
   "execution_count": 32,
   "id": "582af250-fae9-4505-b55c-d79f2b018c08",
   "metadata": {},
   "outputs": [
    {
     "name": "stdout",
     "output_type": "stream",
     "text": [
      "1\n",
      "0\n",
      "2\n",
      "3\n"
     ]
    }
   ],
   "source": [
    "bfs(graph, 1)"
   ]
  },
  {
   "cell_type": "code",
   "execution_count": 34,
   "id": "6952c190-a44b-4e09-b13e-fd0377d8659c",
   "metadata": {},
   "outputs": [
    {
     "name": "stdout",
     "output_type": "stream",
     "text": [
      "{'A': 0, 'B': 1, 'C': 3, 'D': 4}\n"
     ]
    }
   ],
   "source": [
    "import heapq\n",
    "\n",
    "def dijkstra(graph, start):\n",
    "    distances = {vertex: float('inf') for vertex in graph}\n",
    "    distances[start] = 0\n",
    "    pq = [(0, start)]\n",
    "\n",
    "    while pq:\n",
    "        current_distance, current_vertex = heapq.heappop(pq)\n",
    "\n",
    "        if current_distance > distances[current_vertex]:\n",
    "            continue\n",
    "\n",
    "        for neighbor, weight in graph[current_vertex].items():\n",
    "            distance = current_distance + weight\n",
    "\n",
    "            if distance < distances[neighbor]:\n",
    "                distances[neighbor] = distance\n",
    "                heapq.heappush(pq, (distance, neighbor))\n",
    "\n",
    "    return distances\n",
    "\n",
    "# Пример использования:\n",
    "graph = {\n",
    "    'A': {'B': 1, 'C': 4},\n",
    "    'B': {'A': 1, 'C': 2, 'D': 5},\n",
    "    'C': {'A': 4, 'B': 2, 'D': 1},\n",
    "    'D': {'B': 5, 'C': 1}\n",
    "}\n",
    "print(dijkstra(graph, 'A'))"
   ]
  },
  {
   "cell_type": "code",
   "execution_count": 36,
   "id": "c2974509-10e4-4d2f-8195-948dc1551d5d",
   "metadata": {},
   "outputs": [
    {
     "name": "stdout",
     "output_type": "stream",
     "text": [
      "24\n"
     ]
    }
   ],
   "source": [
    "# Максимальная сумма подмассива\n",
    "def kadane(arr):\n",
    "    max_current = max_global = arr[0]\n",
    "    for i in range(1, len(arr)):\n",
    "        max_current = max(arr[i], max_current + arr[i])\n",
    "        if max_current > max_global:\n",
    "            max_global = max_current\n",
    "    return max_global\n",
    "\n",
    "arr = [20, 1, -3, 4, -1, 2, 1, -5, 4]\n",
    "print(kadane(arr))"
   ]
  },
  {
   "cell_type": "code",
   "execution_count": 37,
   "id": "2e3983eb-536f-447e-9aa5-a175a5caa213",
   "metadata": {},
   "outputs": [],
   "source": [
    "# Кратчайший путь невзвешенного графа\n",
    "\n",
    "def shortest_path_bfs(graph, start, end):\n",
    "    queue = deque([start])\n",
    "    parents = {start: None}\n",
    "    visited = set([start])\n",
    "\n",
    "    while queue:\n",
    "        num = queue.popleft()\n",
    "\n",
    "        if num == end:\n",
    "            path = []\n",
    "            while num is not None:\n",
    "                path.append(num)\n",
    "                num = parents[num]\n",
    "            return path[::-1]\n",
    "\n",
    "        for neighbour in graph[num]:\n",
    "            if neighbour not in visited:\n",
    "                visited.add(neighbour)\n",
    "                queue.append(neighbour)\n",
    "                parents[neighbour] = num"
   ]
  },
  {
   "cell_type": "code",
   "execution_count": 40,
   "id": "37910b0d-60ea-4ef5-89b7-0aecdd715e39",
   "metadata": {},
   "outputs": [
    {
     "data": {
      "text/plain": [
       "{0: [1, 2, 3], 1: [0, 2], 2: [0, 1, 3], 3: [0, 2]}"
      ]
     },
     "execution_count": 40,
     "metadata": {},
     "output_type": "execute_result"
    }
   ],
   "source": [
    "graph"
   ]
  },
  {
   "cell_type": "code",
   "execution_count": 42,
   "id": "27783796-6b70-4ebd-9311-66741bbe185a",
   "metadata": {},
   "outputs": [
    {
     "data": {
      "text/plain": [
       "[1, 0, 3]"
      ]
     },
     "execution_count": 42,
     "metadata": {},
     "output_type": "execute_result"
    }
   ],
   "source": [
    "shortest_path_bfs(graph, 1, 3)"
   ]
  }
 ],
 "metadata": {
  "kernelspec": {
   "display_name": "Python 3 (ipykernel)",
   "language": "python",
   "name": "python3"
  },
  "language_info": {
   "codemirror_mode": {
    "name": "ipython",
    "version": 3
   },
   "file_extension": ".py",
   "mimetype": "text/x-python",
   "name": "python",
   "nbconvert_exporter": "python",
   "pygments_lexer": "ipython3",
   "version": "3.10.12"
  }
 },
 "nbformat": 4,
 "nbformat_minor": 5
}
