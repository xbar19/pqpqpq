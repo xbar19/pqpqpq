{
 "cells": [
  {
   "cell_type": "code",
   "execution_count": 2,
   "id": "c1243b9c-0a34-430a-8120-b67928d79a69",
   "metadata": {},
   "outputs": [],
   "source": [
    "import pandas as pd\n",
    "import numpy as np\n",
    "import PIL\n",
    "from IPython.display import Image, display\n",
    "from transformers import AutoImageProcessor, AutoModelForImageClassification, CLIPProcessor, CLIPModel\n",
    "import tqdm"
   ]
  },
  {
   "cell_type": "code",
   "execution_count": 3,
   "id": "42557c95-98a4-4eeb-8f17-91790516f8aa",
   "metadata": {},
   "outputs": [
    {
     "data": {
      "text/html": [
       "<div>\n",
       "<style scoped>\n",
       "    .dataframe tbody tr th:only-of-type {\n",
       "        vertical-align: middle;\n",
       "    }\n",
       "\n",
       "    .dataframe tbody tr th {\n",
       "        vertical-align: top;\n",
       "    }\n",
       "\n",
       "    .dataframe thead th {\n",
       "        text-align: right;\n",
       "    }\n",
       "</style>\n",
       "<table border=\"1\" class=\"dataframe\">\n",
       "  <thead>\n",
       "    <tr style=\"text-align: right;\">\n",
       "      <th></th>\n",
       "      <th>class_id</th>\n",
       "      <th>image_name</th>\n",
       "    </tr>\n",
       "  </thead>\n",
       "  <tbody>\n",
       "    <tr>\n",
       "      <th>0</th>\n",
       "      <td>2</td>\n",
       "      <td>0fa5f1cd824ca3705b654ada33437337.JPG</td>\n",
       "    </tr>\n",
       "    <tr>\n",
       "      <th>1</th>\n",
       "      <td>3</td>\n",
       "      <td>da2969de9de9ca78eee5ba249e52ce89.JPG</td>\n",
       "    </tr>\n",
       "    <tr>\n",
       "      <th>2</th>\n",
       "      <td>4</td>\n",
       "      <td>5b5d9c79cec42ea630d9f29ae59d2d6d.JPG</td>\n",
       "    </tr>\n",
       "    <tr>\n",
       "      <th>3</th>\n",
       "      <td>11</td>\n",
       "      <td>e5dfc9f687530959332a2f8aa0594140.JPG</td>\n",
       "    </tr>\n",
       "    <tr>\n",
       "      <th>4</th>\n",
       "      <td>6</td>\n",
       "      <td>50de65ad44e8dc71ed7f122eff3f2164.JPG</td>\n",
       "    </tr>\n",
       "    <tr>\n",
       "      <th>...</th>\n",
       "      <td>...</td>\n",
       "      <td>...</td>\n",
       "    </tr>\n",
       "    <tr>\n",
       "      <th>40153</th>\n",
       "      <td>4</td>\n",
       "      <td>e744521bf5841656a7a2069d16e73739.JPG</td>\n",
       "    </tr>\n",
       "    <tr>\n",
       "      <th>40154</th>\n",
       "      <td>19</td>\n",
       "      <td>1ee34ce50ff7d386abf6f03846d46b3c.JPG</td>\n",
       "    </tr>\n",
       "    <tr>\n",
       "      <th>40155</th>\n",
       "      <td>4</td>\n",
       "      <td>0023e78f09736e035419568ea1f6e6d4.JPG</td>\n",
       "    </tr>\n",
       "    <tr>\n",
       "      <th>40156</th>\n",
       "      <td>2</td>\n",
       "      <td>cb2576cbf98b9d97621fe5298f30dc8a.JPG</td>\n",
       "    </tr>\n",
       "    <tr>\n",
       "      <th>40157</th>\n",
       "      <td>2</td>\n",
       "      <td>27d862c116760c34390326bbdff4fd63.JPG</td>\n",
       "    </tr>\n",
       "  </tbody>\n",
       "</table>\n",
       "<p>40158 rows × 2 columns</p>\n",
       "</div>"
      ],
      "text/plain": [
       "       class_id                            image_name\n",
       "0             2  0fa5f1cd824ca3705b654ada33437337.JPG\n",
       "1             3  da2969de9de9ca78eee5ba249e52ce89.JPG\n",
       "2             4  5b5d9c79cec42ea630d9f29ae59d2d6d.JPG\n",
       "3            11  e5dfc9f687530959332a2f8aa0594140.JPG\n",
       "4             6  50de65ad44e8dc71ed7f122eff3f2164.JPG\n",
       "...         ...                                   ...\n",
       "40153         4  e744521bf5841656a7a2069d16e73739.JPG\n",
       "40154        19  1ee34ce50ff7d386abf6f03846d46b3c.JPG\n",
       "40155         4  0023e78f09736e035419568ea1f6e6d4.JPG\n",
       "40156         2  cb2576cbf98b9d97621fe5298f30dc8a.JPG\n",
       "40157         2  27d862c116760c34390326bbdff4fd63.JPG\n",
       "\n",
       "[40158 rows x 2 columns]"
      ]
     },
     "execution_count": 3,
     "metadata": {},
     "output_type": "execute_result"
    }
   ],
   "source": [
    "image_df = pd.read_csv('train_nto.csv')\n",
    "image_df = image_df.drop(columns='unified_class')\n",
    "image_df"
   ]
  },
  {
   "cell_type": "code",
   "execution_count": 21,
   "id": "c42e89de-05d6-4fca-bbbf-282278f6772d",
   "metadata": {},
   "outputs": [
    {
     "data": {
      "text/html": [
       "<div>\n",
       "<style scoped>\n",
       "    .dataframe tbody tr th:only-of-type {\n",
       "        vertical-align: middle;\n",
       "    }\n",
       "\n",
       "    .dataframe tbody tr th {\n",
       "        vertical-align: top;\n",
       "    }\n",
       "\n",
       "    .dataframe thead th {\n",
       "        text-align: right;\n",
       "    }\n",
       "</style>\n",
       "<table border=\"1\" class=\"dataframe\">\n",
       "  <thead>\n",
       "    <tr style=\"text-align: right;\">\n",
       "      <th></th>\n",
       "      <th>image_name</th>\n",
       "      <th>predicted_class</th>\n",
       "    </tr>\n",
       "  </thead>\n",
       "  <tbody>\n",
       "    <tr>\n",
       "      <th>0</th>\n",
       "      <td>09974f39ebf33a94ac1505f8e4352ce3.JPG</td>\n",
       "      <td>17</td>\n",
       "    </tr>\n",
       "    <tr>\n",
       "      <th>1</th>\n",
       "      <td>80bb8b892e17f56869e9045880ea42e4.JPG</td>\n",
       "      <td>1</td>\n",
       "    </tr>\n",
       "    <tr>\n",
       "      <th>2</th>\n",
       "      <td>ecbe0b8bcbc6f32c0f2fd46c06833b0c.JPG</td>\n",
       "      <td>18</td>\n",
       "    </tr>\n",
       "    <tr>\n",
       "      <th>3</th>\n",
       "      <td>ed1f7ed239eda609f56e15484886a02e.JPG</td>\n",
       "      <td>4</td>\n",
       "    </tr>\n",
       "    <tr>\n",
       "      <th>4</th>\n",
       "      <td>03b269aaeb40fe866cb41693b3afb0fc.JPG</td>\n",
       "      <td>7</td>\n",
       "    </tr>\n",
       "    <tr>\n",
       "      <th>...</th>\n",
       "      <td>...</td>\n",
       "      <td>...</td>\n",
       "    </tr>\n",
       "    <tr>\n",
       "      <th>16337</th>\n",
       "      <td>cca8403503d71d11eaf097598a53df20.JPG</td>\n",
       "      <td>14</td>\n",
       "    </tr>\n",
       "    <tr>\n",
       "      <th>16338</th>\n",
       "      <td>c1ef97f00759adf20ad85ef201fb7093.JPG</td>\n",
       "      <td>14</td>\n",
       "    </tr>\n",
       "    <tr>\n",
       "      <th>16339</th>\n",
       "      <td>3e607f0fd625c1d5b693490520fda08a.JPG</td>\n",
       "      <td>4</td>\n",
       "    </tr>\n",
       "    <tr>\n",
       "      <th>16340</th>\n",
       "      <td>a56e0607deb47b2494e9ca85c2f8caf6.JPG</td>\n",
       "      <td>2</td>\n",
       "    </tr>\n",
       "    <tr>\n",
       "      <th>16341</th>\n",
       "      <td>1c633c11ddee78a95e7499a4bca61bf4.JPG</td>\n",
       "      <td>4</td>\n",
       "    </tr>\n",
       "  </tbody>\n",
       "</table>\n",
       "<p>16342 rows × 2 columns</p>\n",
       "</div>"
      ],
      "text/plain": [
       "                                 image_name  predicted_class\n",
       "0      09974f39ebf33a94ac1505f8e4352ce3.JPG               17\n",
       "1      80bb8b892e17f56869e9045880ea42e4.JPG                1\n",
       "2      ecbe0b8bcbc6f32c0f2fd46c06833b0c.JPG               18\n",
       "3      ed1f7ed239eda609f56e15484886a02e.JPG                4\n",
       "4      03b269aaeb40fe866cb41693b3afb0fc.JPG                7\n",
       "...                                     ...              ...\n",
       "16337  cca8403503d71d11eaf097598a53df20.JPG               14\n",
       "16338  c1ef97f00759adf20ad85ef201fb7093.JPG               14\n",
       "16339  3e607f0fd625c1d5b693490520fda08a.JPG                4\n",
       "16340  a56e0607deb47b2494e9ca85c2f8caf6.JPG                2\n",
       "16341  1c633c11ddee78a95e7499a4bca61bf4.JPG                4\n",
       "\n",
       "[16342 rows x 2 columns]"
      ]
     },
     "execution_count": 21,
     "metadata": {},
     "output_type": "execute_result"
    }
   ],
   "source": [
    "sub = pd.read_csv('sub_classif1.csv') # sub_classif1.csv - test csv with valid rows\n",
    "sub"
   ]
  },
  {
   "cell_type": "code",
   "execution_count": 5,
   "id": "de82d422-bf63-44b3-968f-07bb84481c0d",
   "metadata": {},
   "outputs": [],
   "source": [
    "clip = CLIPModel.from_pretrained('openai/clip-vit-base-patch32')\n",
    "preproc = CLIPProcessor.from_pretrained('openai/clip-vit-base-patch32')"
   ]
  },
  {
   "cell_type": "code",
   "execution_count": 6,
   "id": "b84cb3ae-b46a-4080-9670-fb970a45aed6",
   "metadata": {},
   "outputs": [
    {
     "name": "stderr",
     "output_type": "stream",
     "text": [
      "/home/xbar19/ML/MLEnv/lib/python3.10/site-packages/transformers/models/mobilenet_v2/feature_extraction_mobilenet_v2.py:28: FutureWarning: The class MobileNetV2FeatureExtractor is deprecated and will be removed in version 5 of Transformers. Please use MobileNetV2ImageProcessor instead.\n",
      "  warnings.warn(\n"
     ]
    }
   ],
   "source": [
    "day_night = AutoModelForImageClassification.from_pretrained('Woleek/day-night')\n",
    "preproc_dn = AutoImageProcessor.from_pretrained('Woleek/day-night')"
   ]
  },
  {
   "cell_type": "code",
   "execution_count": 7,
   "id": "5c98caee-eea6-41df-9748-a8a81f75fcd8",
   "metadata": {},
   "outputs": [],
   "source": [
    "category = ['forest', 'mountains', 'field']"
   ]
  },
  {
   "cell_type": "code",
   "execution_count": 18,
   "id": "45726b3b-4cbe-49d2-91dc-2607b91ddf81",
   "metadata": {},
   "outputs": [],
   "source": [
    "def get_place_features(paths, subset: str): # subset in ['train', 'test']\n",
    "    places = []\n",
    "    for path in tqdm.tqdm(paths):\n",
    "        with PIL.Image.open(f'{subset}_nto/{path}').convert('RGB') as img0:\n",
    "            places.append(category[np.argmax(clip(**preproc(images=img0, return_tensors='pt', text=['forest', 'mountains', 'field'], padding=True)).logits_per_image.detach().numpy())])\n",
    "    return places"
   ]
  },
  {
   "cell_type": "code",
   "execution_count": 12,
   "id": "55e3b09f-b6ad-447f-a391-e71404584bfb",
   "metadata": {},
   "outputs": [],
   "source": [
    "def get_day_night_features(paths, subset: str): # subset in ['train', 'test']\n",
    "    dn_features = []\n",
    "    for path in tqdm.tqdm(paths):\n",
    "        with PIL.Image.open(f'{subset}_nto/{path}').convert('RGB') as img0:\n",
    "            dn_features.append(np.argmax(day_night(**preproc_dn(images=img0, return_tensors='pt')).logits.detach().numpy()))\n",
    "    return dn_features"
   ]
  },
  {
   "cell_type": "code",
   "execution_count": 22,
   "id": "ec6b855c-193e-4287-b85d-cde4f325ac4b",
   "metadata": {},
   "outputs": [],
   "source": [
    "image_df1 = image_df.copy()\n",
    "sub1 = sub.copy()"
   ]
  },
  {
   "cell_type": "code",
   "execution_count": null,
   "id": "faabb0b8-f901-483f-aa2e-acd9e044b8f6",
   "metadata": {},
   "outputs": [],
   "source": [
    "train_dn = get_day_night_features(image_df['image_name'].values, 'train')\n",
    "test_dn = get_day_night_features(sub['image_name'].values, 'test')"
   ]
  },
  {
   "cell_type": "code",
   "execution_count": null,
   "id": "18a7a038-c22b-4867-9df6-f102b8a66b69",
   "metadata": {},
   "outputs": [],
   "source": [
    "train_place = get_place_features(image_df['image_name'].values, 'train')\n",
    "test_place = get_place_features(sub['image_name'].values, 'test')"
   ]
  },
  {
   "cell_type": "code",
   "execution_count": null,
   "id": "e7f6a8fc-5b93-4f74-915f-6e47cbc987e6",
   "metadata": {},
   "outputs": [],
   "source": [
    "image_df['is_night'] = train_dn\n",
    "sub['is_night'] = test_dn"
   ]
  },
  {
   "cell_type": "code",
   "execution_count": null,
   "id": "efeed4ed-50d4-4cf6-935b-b7321b6ce001",
   "metadata": {},
   "outputs": [],
   "source": [
    "image_df1['place'] = train_place\n",
    "sub1['place'] = test_place"
   ]
  },
  {
   "cell_type": "code",
   "execution_count": 20,
   "id": "084b0a59-7a9e-4b45-b435-2b0d3ae82a67",
   "metadata": {},
   "outputs": [],
   "source": [
    "# cat_preds = []\n",
    "# for path in tqdm.tqdm(sub['image_name'].values):\n",
    "#     with PIL.Image.open(f'test_nto/{path}').convert('RGB') as img0:\n",
    "#         cat_preds.append(category[np.argmax(clip(**preproc(images=img0, return_tensors='pt', text=['forest', 'mountains', 'field'], padding=True)).logits_per_image.detach().numpy())])"
   ]
  },
  {
   "cell_type": "code",
   "execution_count": 14,
   "id": "1d436fbd-863d-4c6e-98d3-4b071cf588c9",
   "metadata": {},
   "outputs": [
    {
     "data": {
      "text/plain": [
       "place\n",
       "forest       11629\n",
       "field         3590\n",
       "mountains     1123\n",
       "Name: count, dtype: int64"
      ]
     },
     "execution_count": 14,
     "metadata": {},
     "output_type": "execute_result"
    }
   ],
   "source": [
    "sub['place'].value_counts()"
   ]
  },
  {
   "cell_type": "code",
   "execution_count": 16,
   "id": "5d597733-821b-4fd2-85c0-973df7232152",
   "metadata": {},
   "outputs": [
    {
     "data": {
      "text/html": [
       "<div>\n",
       "<style scoped>\n",
       "    .dataframe tbody tr th:only-of-type {\n",
       "        vertical-align: middle;\n",
       "    }\n",
       "\n",
       "    .dataframe tbody tr th {\n",
       "        vertical-align: top;\n",
       "    }\n",
       "\n",
       "    .dataframe thead th {\n",
       "        text-align: right;\n",
       "    }\n",
       "</style>\n",
       "<table border=\"1\" class=\"dataframe\">\n",
       "  <thead>\n",
       "    <tr style=\"text-align: right;\">\n",
       "      <th></th>\n",
       "      <th>image_name</th>\n",
       "      <th>predicted_class</th>\n",
       "      <th>place</th>\n",
       "    </tr>\n",
       "  </thead>\n",
       "  <tbody>\n",
       "    <tr>\n",
       "      <th>0</th>\n",
       "      <td>09974f39ebf33a94ac1505f8e4352ce3.JPG</td>\n",
       "      <td>17</td>\n",
       "      <td>forest</td>\n",
       "    </tr>\n",
       "    <tr>\n",
       "      <th>1</th>\n",
       "      <td>80bb8b892e17f56869e9045880ea42e4.JPG</td>\n",
       "      <td>1</td>\n",
       "      <td>forest</td>\n",
       "    </tr>\n",
       "    <tr>\n",
       "      <th>2</th>\n",
       "      <td>ecbe0b8bcbc6f32c0f2fd46c06833b0c.JPG</td>\n",
       "      <td>18</td>\n",
       "      <td>forest</td>\n",
       "    </tr>\n",
       "    <tr>\n",
       "      <th>3</th>\n",
       "      <td>ed1f7ed239eda609f56e15484886a02e.JPG</td>\n",
       "      <td>4</td>\n",
       "      <td>field</td>\n",
       "    </tr>\n",
       "    <tr>\n",
       "      <th>4</th>\n",
       "      <td>03b269aaeb40fe866cb41693b3afb0fc.JPG</td>\n",
       "      <td>7</td>\n",
       "      <td>forest</td>\n",
       "    </tr>\n",
       "    <tr>\n",
       "      <th>...</th>\n",
       "      <td>...</td>\n",
       "      <td>...</td>\n",
       "      <td>...</td>\n",
       "    </tr>\n",
       "    <tr>\n",
       "      <th>16337</th>\n",
       "      <td>cca8403503d71d11eaf097598a53df20.JPG</td>\n",
       "      <td>14</td>\n",
       "      <td>field</td>\n",
       "    </tr>\n",
       "    <tr>\n",
       "      <th>16338</th>\n",
       "      <td>c1ef97f00759adf20ad85ef201fb7093.JPG</td>\n",
       "      <td>14</td>\n",
       "      <td>field</td>\n",
       "    </tr>\n",
       "    <tr>\n",
       "      <th>16339</th>\n",
       "      <td>3e607f0fd625c1d5b693490520fda08a.JPG</td>\n",
       "      <td>4</td>\n",
       "      <td>forest</td>\n",
       "    </tr>\n",
       "    <tr>\n",
       "      <th>16340</th>\n",
       "      <td>a56e0607deb47b2494e9ca85c2f8caf6.JPG</td>\n",
       "      <td>2</td>\n",
       "      <td>field</td>\n",
       "    </tr>\n",
       "    <tr>\n",
       "      <th>16341</th>\n",
       "      <td>1c633c11ddee78a95e7499a4bca61bf4.JPG</td>\n",
       "      <td>4</td>\n",
       "      <td>forest</td>\n",
       "    </tr>\n",
       "  </tbody>\n",
       "</table>\n",
       "<p>16342 rows × 3 columns</p>\n",
       "</div>"
      ],
      "text/plain": [
       "                                 image_name  predicted_class   place\n",
       "0      09974f39ebf33a94ac1505f8e4352ce3.JPG               17  forest\n",
       "1      80bb8b892e17f56869e9045880ea42e4.JPG                1  forest\n",
       "2      ecbe0b8bcbc6f32c0f2fd46c06833b0c.JPG               18  forest\n",
       "3      ed1f7ed239eda609f56e15484886a02e.JPG                4   field\n",
       "4      03b269aaeb40fe866cb41693b3afb0fc.JPG                7  forest\n",
       "...                                     ...              ...     ...\n",
       "16337  cca8403503d71d11eaf097598a53df20.JPG               14   field\n",
       "16338  c1ef97f00759adf20ad85ef201fb7093.JPG               14   field\n",
       "16339  3e607f0fd625c1d5b693490520fda08a.JPG                4  forest\n",
       "16340  a56e0607deb47b2494e9ca85c2f8caf6.JPG                2   field\n",
       "16341  1c633c11ddee78a95e7499a4bca61bf4.JPG                4  forest\n",
       "\n",
       "[16342 rows x 3 columns]"
      ]
     },
     "execution_count": 16,
     "metadata": {},
     "output_type": "execute_result"
    }
   ],
   "source": [
    "sub"
   ]
  },
  {
   "cell_type": "code",
   "execution_count": null,
   "id": "dbe7f059-a1f5-47e6-bfdb-d5f0183a138d",
   "metadata": {},
   "outputs": [],
   "source": [
    "image_df.to_csv('train_nto_dn.csv')\n",
    "sub.to_csv('test_nto_dn.csv')"
   ]
  },
  {
   "cell_type": "code",
   "execution_count": 10,
   "id": "7e2e9e7e-75e3-4555-92eb-ab542fcc97e2",
   "metadata": {},
   "outputs": [],
   "source": [
    "image_df1.to_csv('train_nto_place.csv')"
   ]
  },
  {
   "cell_type": "code",
   "execution_count": 15,
   "id": "8a31ee5a-2423-4018-b497-3e5b079e5b1e",
   "metadata": {},
   "outputs": [],
   "source": [
    "sub1.to_csv('test_nto_place.csv')"
   ]
  }
 ],
 "metadata": {
  "kernelspec": {
   "display_name": "Python 3 (ipykernel)",
   "language": "python",
   "name": "python3"
  },
  "language_info": {
   "codemirror_mode": {
    "name": "ipython",
    "version": 3
   },
   "file_extension": ".py",
   "mimetype": "text/x-python",
   "name": "python",
   "nbconvert_exporter": "python",
   "pygments_lexer": "ipython3",
   "version": "3.10.12"
  }
 },
 "nbformat": 4,
 "nbformat_minor": 5
}
