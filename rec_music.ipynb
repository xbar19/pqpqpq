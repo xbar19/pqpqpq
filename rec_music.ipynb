{
 "cells": [
  {
   "cell_type": "code",
   "execution_count": 1,
   "id": "88754fb7-df42-49ad-bd3d-e5b68126e42b",
   "metadata": {},
   "outputs": [],
   "source": [
    "import pandas as pd\n",
    "import numpy as np"
   ]
  },
  {
   "cell_type": "code",
   "execution_count": 2,
   "id": "92828b83-6e42-4f26-828c-7b69efd5d251",
   "metadata": {},
   "outputs": [
    {
     "data": {
      "text/html": [
       "<div>\n",
       "<style scoped>\n",
       "    .dataframe tbody tr th:only-of-type {\n",
       "        vertical-align: middle;\n",
       "    }\n",
       "\n",
       "    .dataframe tbody tr th {\n",
       "        vertical-align: top;\n",
       "    }\n",
       "\n",
       "    .dataframe thead th {\n",
       "        text-align: right;\n",
       "    }\n",
       "</style>\n",
       "<table border=\"1\" class=\"dataframe\">\n",
       "  <thead>\n",
       "    <tr style=\"text-align: right;\">\n",
       "      <th></th>\n",
       "      <th>userId</th>\n",
       "      <th>id</th>\n",
       "      <th>artistId</th>\n",
       "    </tr>\n",
       "  </thead>\n",
       "  <tbody>\n",
       "    <tr>\n",
       "      <th>0</th>\n",
       "      <td>-9223365420690745920</td>\n",
       "      <td>4789011704403477758</td>\n",
       "      <td>4862000404086590321</td>\n",
       "    </tr>\n",
       "    <tr>\n",
       "      <th>1</th>\n",
       "      <td>-9223357012432074795</td>\n",
       "      <td>-3685301030413601284</td>\n",
       "      <td>-5911062739952260612</td>\n",
       "    </tr>\n",
       "    <tr>\n",
       "      <th>2</th>\n",
       "      <td>-9223357012432074795</td>\n",
       "      <td>-1040959798245656474</td>\n",
       "      <td>6738173673409941080</td>\n",
       "    </tr>\n",
       "    <tr>\n",
       "      <th>3</th>\n",
       "      <td>-9223331337535253792</td>\n",
       "      <td>-8750332497321603794</td>\n",
       "      <td>-2531033142411854446</td>\n",
       "    </tr>\n",
       "    <tr>\n",
       "      <th>4</th>\n",
       "      <td>-9223331337535253792</td>\n",
       "      <td>7353026449734842135</td>\n",
       "      <td>-285672225852509948</td>\n",
       "    </tr>\n",
       "  </tbody>\n",
       "</table>\n",
       "</div>"
      ],
      "text/plain": [
       "                userId                   id             artistId\n",
       "0 -9223365420690745920  4789011704403477758  4862000404086590321\n",
       "1 -9223357012432074795 -3685301030413601284 -5911062739952260612\n",
       "2 -9223357012432074795 -1040959798245656474  6738173673409941080\n",
       "3 -9223331337535253792 -8750332497321603794 -2531033142411854446\n",
       "4 -9223331337535253792  7353026449734842135  -285672225852509948"
      ]
     },
     "execution_count": 2,
     "metadata": {},
     "output_type": "execute_result"
    }
   ],
   "source": [
    "db = pd.read_csv('train_music.csv')\n",
    "db.head()"
   ]
  },
  {
   "cell_type": "code",
   "execution_count": 3,
   "id": "eb1018e3-d38a-4759-bcbc-416327abbc23",
   "metadata": {},
   "outputs": [],
   "source": [
    "db = db.astype(object)"
   ]
  },
  {
   "cell_type": "code",
   "execution_count": 7,
   "id": "7d791700-9987-47a7-9509-5d4eb5dcaf65",
   "metadata": {},
   "outputs": [],
   "source": [
    "from catboost import CatBoostRanker, Pool"
   ]
  },
  {
   "cell_type": "code",
   "execution_count": 13,
   "id": "92d5cda9-f52d-4d74-9840-fe14221356e2",
   "metadata": {},
   "outputs": [],
   "source": [
    "y_train = [1,]*len(db)"
   ]
  },
  {
   "cell_type": "code",
   "execution_count": 23,
   "id": "6a111236-41fb-49ae-8f45-db6721ad2f56",
   "metadata": {},
   "outputs": [],
   "source": [
    "model = CatBoostRanker(iterations=1000,\n",
    "    learning_rate=0.1,\n",
    "    depth=6,\n",
    "    loss_function='PairLogit',\n",
    "    eval_metric='MRR')"
   ]
  },
  {
   "cell_type": "code",
   "execution_count": 31,
   "id": "0f1cb8ca-9be4-4a7a-9dc2-2e8f8ad04eec",
   "metadata": {},
   "outputs": [
    {
     "ename": "AttributeError",
     "evalue": "'Series' object has no attribute 'query'",
     "output_type": "error",
     "traceback": [
      "\u001b[0;31m---------------------------------------------------------------------------\u001b[0m",
      "\u001b[0;31mAttributeError\u001b[0m                            Traceback (most recent call last)",
      "\u001b[0;32m/tmp/ipykernel_100394/3197552438.py\u001b[0m in \u001b[0;36m?\u001b[0;34m()\u001b[0m\n\u001b[0;32m----> 1\u001b[0;31m \u001b[0mtrain\u001b[0m \u001b[0;34m=\u001b[0m \u001b[0mPool\u001b[0m\u001b[0;34m(\u001b[0m\u001b[0mdb\u001b[0m\u001b[0;34m[\u001b[0m\u001b[0;34m'userId'\u001b[0m\u001b[0;34m]\u001b[0m\u001b[0;34m,\u001b[0m \u001b[0mlabel\u001b[0m\u001b[0;34m=\u001b[0m\u001b[0mdb\u001b[0m\u001b[0;34m[\u001b[0m\u001b[0;34m'id'\u001b[0m\u001b[0;34m]\u001b[0m\u001b[0;34m,\u001b[0m \u001b[0mgroup_id\u001b[0m\u001b[0;34m=\u001b[0m\u001b[0mdb\u001b[0m\u001b[0;34m[\u001b[0m\u001b[0;34m'artistId'\u001b[0m\u001b[0;34m]\u001b[0m\u001b[0;34m.\u001b[0m\u001b[0mquery\u001b[0m\u001b[0;34m(\u001b[0m\u001b[0;34m)\u001b[0m\u001b[0;34m)\u001b[0m\u001b[0;34m\u001b[0m\u001b[0;34m\u001b[0m\u001b[0m\n\u001b[0m",
      "\u001b[0;32m~/ML/MLEnv/lib/python3.10/site-packages/pandas/core/generic.py\u001b[0m in \u001b[0;36m?\u001b[0;34m(self, name)\u001b[0m\n\u001b[1;32m   6295\u001b[0m             \u001b[0;32mand\u001b[0m \u001b[0mname\u001b[0m \u001b[0;32mnot\u001b[0m \u001b[0;32min\u001b[0m \u001b[0mself\u001b[0m\u001b[0;34m.\u001b[0m\u001b[0m_accessors\u001b[0m\u001b[0;34m\u001b[0m\u001b[0;34m\u001b[0m\u001b[0m\n\u001b[1;32m   6296\u001b[0m             \u001b[0;32mand\u001b[0m \u001b[0mself\u001b[0m\u001b[0;34m.\u001b[0m\u001b[0m_info_axis\u001b[0m\u001b[0;34m.\u001b[0m\u001b[0m_can_hold_identifiers_and_holds_name\u001b[0m\u001b[0;34m(\u001b[0m\u001b[0mname\u001b[0m\u001b[0;34m)\u001b[0m\u001b[0;34m\u001b[0m\u001b[0;34m\u001b[0m\u001b[0m\n\u001b[1;32m   6297\u001b[0m         ):\n\u001b[1;32m   6298\u001b[0m             \u001b[0;32mreturn\u001b[0m \u001b[0mself\u001b[0m\u001b[0;34m[\u001b[0m\u001b[0mname\u001b[0m\u001b[0;34m]\u001b[0m\u001b[0;34m\u001b[0m\u001b[0;34m\u001b[0m\u001b[0m\n\u001b[0;32m-> 6299\u001b[0;31m         \u001b[0;32mreturn\u001b[0m \u001b[0mobject\u001b[0m\u001b[0;34m.\u001b[0m\u001b[0m__getattribute__\u001b[0m\u001b[0;34m(\u001b[0m\u001b[0mself\u001b[0m\u001b[0;34m,\u001b[0m \u001b[0mname\u001b[0m\u001b[0;34m)\u001b[0m\u001b[0;34m\u001b[0m\u001b[0;34m\u001b[0m\u001b[0m\n\u001b[0m",
      "\u001b[0;31mAttributeError\u001b[0m: 'Series' object has no attribute 'query'"
     ]
    }
   ],
   "source": [
    "train = Pool(db['userId'], label=db['id'], group_id=db['artistId'].query())"
   ]
  },
  {
   "cell_type": "code",
   "execution_count": 11,
   "id": "64e2c5bf-f647-4b84-8378-920692b1a42f",
   "metadata": {},
   "outputs": [],
   "source": [
    "y_train = Pool(y_train)"
   ]
  },
  {
   "cell_type": "code",
   "execution_count": 26,
   "id": "62ecc13c-c6c3-4978-856b-b2978cc62be7",
   "metadata": {},
   "outputs": [
    {
     "ename": "CatBoostError",
     "evalue": "catboost/private/libs/pairs/util.cpp:94: Cannot generate pairs for data without groups",
     "output_type": "error",
     "traceback": [
      "\u001b[0;31m---------------------------------------------------------------------------\u001b[0m",
      "\u001b[0;31mCatBoostError\u001b[0m                             Traceback (most recent call last)",
      "Cell \u001b[0;32mIn[26], line 1\u001b[0m\n\u001b[0;32m----> 1\u001b[0m \u001b[43mmodel\u001b[49m\u001b[38;5;241;43m.\u001b[39;49m\u001b[43mfit\u001b[49m\u001b[43m(\u001b[49m\u001b[43mtrain\u001b[49m\u001b[43m)\u001b[49m\n",
      "File \u001b[0;32m~/ML/MLEnv/lib/python3.10/site-packages/catboost/core.py:6283\u001b[0m, in \u001b[0;36mCatBoostRanker.fit\u001b[0;34m(self, X, y, group_id, cat_features, text_features, embedding_features, pairs, graph, sample_weight, group_weight, subgroup_id, pairs_weight, baseline, use_best_model, eval_set, verbose, logging_level, plot, plot_file, column_description, verbose_eval, metric_period, silent, early_stopping_rounds, save_snapshot, snapshot_file, snapshot_interval, init_model, callbacks, log_cout, log_cerr)\u001b[0m\n\u001b[1;32m   6280\u001b[0m \u001b[38;5;28;01mif\u001b[39;00m \u001b[38;5;124m'\u001b[39m\u001b[38;5;124mloss_function\u001b[39m\u001b[38;5;124m'\u001b[39m \u001b[38;5;129;01min\u001b[39;00m params:\n\u001b[1;32m   6281\u001b[0m     CatBoostRanker\u001b[38;5;241m.\u001b[39m_check_is_compatible_loss(params[\u001b[38;5;124m'\u001b[39m\u001b[38;5;124mloss_function\u001b[39m\u001b[38;5;124m'\u001b[39m])\n\u001b[0;32m-> 6283\u001b[0m \u001b[38;5;28;43mself\u001b[39;49m\u001b[38;5;241;43m.\u001b[39;49m\u001b[43m_fit\u001b[49m\u001b[43m(\u001b[49m\u001b[43mX\u001b[49m\u001b[43m,\u001b[49m\u001b[43m \u001b[49m\u001b[43my\u001b[49m\u001b[43m,\u001b[49m\u001b[43m \u001b[49m\u001b[43mcat_features\u001b[49m\u001b[43m,\u001b[49m\u001b[43m \u001b[49m\u001b[43mtext_features\u001b[49m\u001b[43m,\u001b[49m\u001b[43m \u001b[49m\u001b[43membedding_features\u001b[49m\u001b[43m,\u001b[49m\u001b[43m \u001b[49m\u001b[43mpairs\u001b[49m\u001b[43m,\u001b[49m\u001b[43m \u001b[49m\u001b[43mgraph\u001b[49m\u001b[43m,\u001b[49m\n\u001b[1;32m   6284\u001b[0m \u001b[43m          \u001b[49m\u001b[43msample_weight\u001b[49m\u001b[43m,\u001b[49m\u001b[43m \u001b[49m\u001b[43mgroup_id\u001b[49m\u001b[43m,\u001b[49m\u001b[43m \u001b[49m\u001b[43mgroup_weight\u001b[49m\u001b[43m,\u001b[49m\u001b[43m \u001b[49m\u001b[43msubgroup_id\u001b[49m\u001b[43m,\u001b[49m\u001b[43m \u001b[49m\u001b[43mpairs_weight\u001b[49m\u001b[43m,\u001b[49m\u001b[43m \u001b[49m\u001b[43mbaseline\u001b[49m\u001b[43m,\u001b[49m\u001b[43m \u001b[49m\u001b[43muse_best_model\u001b[49m\u001b[43m,\u001b[49m\n\u001b[1;32m   6285\u001b[0m \u001b[43m          \u001b[49m\u001b[43meval_set\u001b[49m\u001b[43m,\u001b[49m\u001b[43m \u001b[49m\u001b[43mverbose\u001b[49m\u001b[43m,\u001b[49m\u001b[43m \u001b[49m\u001b[43mlogging_level\u001b[49m\u001b[43m,\u001b[49m\u001b[43m \u001b[49m\u001b[43mplot\u001b[49m\u001b[43m,\u001b[49m\u001b[43m \u001b[49m\u001b[43mplot_file\u001b[49m\u001b[43m,\u001b[49m\u001b[43m \u001b[49m\u001b[43mcolumn_description\u001b[49m\u001b[43m,\u001b[49m\u001b[43m \u001b[49m\u001b[43mverbose_eval\u001b[49m\u001b[43m,\u001b[49m\u001b[43m \u001b[49m\u001b[43mmetric_period\u001b[49m\u001b[43m,\u001b[49m\n\u001b[1;32m   6286\u001b[0m \u001b[43m          \u001b[49m\u001b[43msilent\u001b[49m\u001b[43m,\u001b[49m\u001b[43m \u001b[49m\u001b[43mearly_stopping_rounds\u001b[49m\u001b[43m,\u001b[49m\u001b[43m \u001b[49m\u001b[43msave_snapshot\u001b[49m\u001b[43m,\u001b[49m\u001b[43m \u001b[49m\u001b[43msnapshot_file\u001b[49m\u001b[43m,\u001b[49m\u001b[43m \u001b[49m\u001b[43msnapshot_interval\u001b[49m\u001b[43m,\u001b[49m\u001b[43m \u001b[49m\u001b[43minit_model\u001b[49m\u001b[43m,\u001b[49m\u001b[43m \u001b[49m\u001b[43mcallbacks\u001b[49m\u001b[43m,\u001b[49m\u001b[43m \u001b[49m\u001b[43mlog_cout\u001b[49m\u001b[43m,\u001b[49m\u001b[43m \u001b[49m\u001b[43mlog_cerr\u001b[49m\u001b[43m)\u001b[49m\n\u001b[1;32m   6287\u001b[0m \u001b[38;5;28;01mreturn\u001b[39;00m \u001b[38;5;28mself\u001b[39m\n",
      "File \u001b[0;32m~/ML/MLEnv/lib/python3.10/site-packages/catboost/core.py:2410\u001b[0m, in \u001b[0;36mCatBoost._fit\u001b[0;34m(self, X, y, cat_features, text_features, embedding_features, pairs, graph, sample_weight, group_id, group_weight, subgroup_id, pairs_weight, baseline, use_best_model, eval_set, verbose, logging_level, plot, plot_file, column_description, verbose_eval, metric_period, silent, early_stopping_rounds, save_snapshot, snapshot_file, snapshot_interval, init_model, callbacks, log_cout, log_cerr)\u001b[0m\n\u001b[1;32m   2407\u001b[0m allow_clear_pool \u001b[38;5;241m=\u001b[39m train_params[\u001b[38;5;124m\"\u001b[39m\u001b[38;5;124mallow_clear_pool\u001b[39m\u001b[38;5;124m\"\u001b[39m]\n\u001b[1;32m   2409\u001b[0m \u001b[38;5;28;01mwith\u001b[39;00m plot_wrapper(plot, plot_file, \u001b[38;5;124m'\u001b[39m\u001b[38;5;124mTraining plots\u001b[39m\u001b[38;5;124m'\u001b[39m, [_get_train_dir(\u001b[38;5;28mself\u001b[39m\u001b[38;5;241m.\u001b[39mget_params())]):\n\u001b[0;32m-> 2410\u001b[0m     \u001b[38;5;28;43mself\u001b[39;49m\u001b[38;5;241;43m.\u001b[39;49m\u001b[43m_train\u001b[49m\u001b[43m(\u001b[49m\n\u001b[1;32m   2411\u001b[0m \u001b[43m        \u001b[49m\u001b[43mtrain_pool\u001b[49m\u001b[43m,\u001b[49m\n\u001b[1;32m   2412\u001b[0m \u001b[43m        \u001b[49m\u001b[43mtrain_params\u001b[49m\u001b[43m[\u001b[49m\u001b[38;5;124;43m\"\u001b[39;49m\u001b[38;5;124;43meval_sets\u001b[39;49m\u001b[38;5;124;43m\"\u001b[39;49m\u001b[43m]\u001b[49m\u001b[43m,\u001b[49m\n\u001b[1;32m   2413\u001b[0m \u001b[43m        \u001b[49m\u001b[43mparams\u001b[49m\u001b[43m,\u001b[49m\n\u001b[1;32m   2414\u001b[0m \u001b[43m        \u001b[49m\u001b[43mallow_clear_pool\u001b[49m\u001b[43m,\u001b[49m\n\u001b[1;32m   2415\u001b[0m \u001b[43m        \u001b[49m\u001b[43mtrain_params\u001b[49m\u001b[43m[\u001b[49m\u001b[38;5;124;43m\"\u001b[39;49m\u001b[38;5;124;43minit_model\u001b[39;49m\u001b[38;5;124;43m\"\u001b[39;49m\u001b[43m]\u001b[49m\n\u001b[1;32m   2416\u001b[0m \u001b[43m    \u001b[49m\u001b[43m)\u001b[49m\n\u001b[1;32m   2418\u001b[0m \u001b[38;5;66;03m# Have property feature_importance possibly set\u001b[39;00m\n\u001b[1;32m   2419\u001b[0m loss \u001b[38;5;241m=\u001b[39m \u001b[38;5;28mself\u001b[39m\u001b[38;5;241m.\u001b[39m_object\u001b[38;5;241m.\u001b[39m_get_loss_function_name()\n",
      "File \u001b[0;32m~/ML/MLEnv/lib/python3.10/site-packages/catboost/core.py:1790\u001b[0m, in \u001b[0;36m_CatBoostBase._train\u001b[0;34m(self, train_pool, test_pool, params, allow_clear_pool, init_model)\u001b[0m\n\u001b[1;32m   1789\u001b[0m \u001b[38;5;28;01mdef\u001b[39;00m \u001b[38;5;21m_train\u001b[39m(\u001b[38;5;28mself\u001b[39m, train_pool, test_pool, params, allow_clear_pool, init_model):\n\u001b[0;32m-> 1790\u001b[0m     \u001b[38;5;28;43mself\u001b[39;49m\u001b[38;5;241;43m.\u001b[39;49m\u001b[43m_object\u001b[49m\u001b[38;5;241;43m.\u001b[39;49m\u001b[43m_train\u001b[49m\u001b[43m(\u001b[49m\u001b[43mtrain_pool\u001b[49m\u001b[43m,\u001b[49m\u001b[43m \u001b[49m\u001b[43mtest_pool\u001b[49m\u001b[43m,\u001b[49m\u001b[43m \u001b[49m\u001b[43mparams\u001b[49m\u001b[43m,\u001b[49m\u001b[43m \u001b[49m\u001b[43mallow_clear_pool\u001b[49m\u001b[43m,\u001b[49m\u001b[43m \u001b[49m\u001b[43minit_model\u001b[49m\u001b[38;5;241;43m.\u001b[39;49m\u001b[43m_object\u001b[49m\u001b[43m \u001b[49m\u001b[38;5;28;43;01mif\u001b[39;49;00m\u001b[43m \u001b[49m\u001b[43minit_model\u001b[49m\u001b[43m \u001b[49m\u001b[38;5;28;43;01melse\u001b[39;49;00m\u001b[43m \u001b[49m\u001b[38;5;28;43;01mNone\u001b[39;49;00m\u001b[43m)\u001b[49m\n\u001b[1;32m   1791\u001b[0m     \u001b[38;5;28mself\u001b[39m\u001b[38;5;241m.\u001b[39m_set_trained_model_attributes()\n",
      "File \u001b[0;32m_catboost.pyx:5017\u001b[0m, in \u001b[0;36m_catboost._CatBoost._train\u001b[0;34m()\u001b[0m\n",
      "File \u001b[0;32m_catboost.pyx:5066\u001b[0m, in \u001b[0;36m_catboost._CatBoost._train\u001b[0;34m()\u001b[0m\n",
      "\u001b[0;31mCatBoostError\u001b[0m: catboost/private/libs/pairs/util.cpp:94: Cannot generate pairs for data without groups"
     ]
    }
   ],
   "source": [
    "model.fit(train)"
   ]
  },
  {
   "cell_type": "code",
   "execution_count": 33,
   "id": "e7570496-0bf6-4891-8a17-b267c0aa89f4",
   "metadata": {},
   "outputs": [
    {
     "data": {
      "text/html": [
       "<div>\n",
       "<style scoped>\n",
       "    .dataframe tbody tr th:only-of-type {\n",
       "        vertical-align: middle;\n",
       "    }\n",
       "\n",
       "    .dataframe tbody tr th {\n",
       "        vertical-align: top;\n",
       "    }\n",
       "\n",
       "    .dataframe thead th {\n",
       "        text-align: right;\n",
       "    }\n",
       "</style>\n",
       "<table border=\"1\" class=\"dataframe\">\n",
       "  <thead>\n",
       "    <tr style=\"text-align: right;\">\n",
       "      <th></th>\n",
       "      <th>user_id</th>\n",
       "      <th>item_id</th>\n",
       "      <th>Artist</th>\n",
       "    </tr>\n",
       "  </thead>\n",
       "  <tbody>\n",
       "    <tr>\n",
       "      <th>1</th>\n",
       "      <td>-9223365420690745920</td>\n",
       "      <td>4789011704403477758</td>\n",
       "      <td>4862000404086590321</td>\n",
       "    </tr>\n",
       "    <tr>\n",
       "      <th>2</th>\n",
       "      <td>-9223357012432074795</td>\n",
       "      <td>-3685301030413601284</td>\n",
       "      <td>-5911062739952260612</td>\n",
       "    </tr>\n",
       "    <tr>\n",
       "      <th>3</th>\n",
       "      <td>-9223357012432074795</td>\n",
       "      <td>-1040959798245656474</td>\n",
       "      <td>6738173673409941080</td>\n",
       "    </tr>\n",
       "    <tr>\n",
       "      <th>4</th>\n",
       "      <td>-9223331337535253792</td>\n",
       "      <td>-8750332497321603794</td>\n",
       "      <td>-2531033142411854446</td>\n",
       "    </tr>\n",
       "    <tr>\n",
       "      <th>5</th>\n",
       "      <td>-9223331337535253792</td>\n",
       "      <td>7353026449734842135</td>\n",
       "      <td>-285672225852509948</td>\n",
       "    </tr>\n",
       "  </tbody>\n",
       "</table>\n",
       "</div>"
      ],
      "text/plain": [
       "                user_id               item_id                Artist\n",
       "1  -9223365420690745920   4789011704403477758   4862000404086590321\n",
       "2  -9223357012432074795  -3685301030413601284  -5911062739952260612\n",
       "3  -9223357012432074795  -1040959798245656474   6738173673409941080\n",
       "4  -9223331337535253792  -8750332497321603794  -2531033142411854446\n",
       "5  -9223331337535253792   7353026449734842135   -285672225852509948"
      ]
     },
     "execution_count": 33,
     "metadata": {},
     "output_type": "execute_result"
    }
   ],
   "source": [
    "db = db.iloc[1:]\n",
    "db.head()"
   ]
  },
  {
   "cell_type": "code",
   "execution_count": 58,
   "id": "e3c0204d-1635-470d-9a62-09f5868429a4",
   "metadata": {},
   "outputs": [
    {
     "data": {
      "text/html": [
       "<div>\n",
       "<style scoped>\n",
       "    .dataframe tbody tr th:only-of-type {\n",
       "        vertical-align: middle;\n",
       "    }\n",
       "\n",
       "    .dataframe tbody tr th {\n",
       "        vertical-align: top;\n",
       "    }\n",
       "\n",
       "    .dataframe thead th {\n",
       "        text-align: right;\n",
       "    }\n",
       "</style>\n",
       "<table border=\"1\" class=\"dataframe\">\n",
       "  <thead>\n",
       "    <tr style=\"text-align: right;\">\n",
       "      <th></th>\n",
       "      <th>user_id</th>\n",
       "      <th>item_id</th>\n",
       "      <th>Artist</th>\n",
       "      <th>datetime</th>\n",
       "      <th>weight</th>\n",
       "    </tr>\n",
       "  </thead>\n",
       "  <tbody>\n",
       "    <tr>\n",
       "      <th>1</th>\n",
       "      <td>-9223365420690745920</td>\n",
       "      <td>4789011704403477758</td>\n",
       "      <td>4862000404086590321</td>\n",
       "      <td>0</td>\n",
       "      <td>1</td>\n",
       "    </tr>\n",
       "    <tr>\n",
       "      <th>2</th>\n",
       "      <td>-9223357012432074795</td>\n",
       "      <td>-3685301030413601284</td>\n",
       "      <td>-5911062739952260612</td>\n",
       "      <td>1</td>\n",
       "      <td>1</td>\n",
       "    </tr>\n",
       "    <tr>\n",
       "      <th>3</th>\n",
       "      <td>-9223357012432074795</td>\n",
       "      <td>-1040959798245656474</td>\n",
       "      <td>6738173673409941080</td>\n",
       "      <td>2</td>\n",
       "      <td>1</td>\n",
       "    </tr>\n",
       "    <tr>\n",
       "      <th>4</th>\n",
       "      <td>-9223331337535253792</td>\n",
       "      <td>-8750332497321603794</td>\n",
       "      <td>-2531033142411854446</td>\n",
       "      <td>3</td>\n",
       "      <td>1</td>\n",
       "    </tr>\n",
       "    <tr>\n",
       "      <th>5</th>\n",
       "      <td>-9223331337535253792</td>\n",
       "      <td>7353026449734842135</td>\n",
       "      <td>-285672225852509948</td>\n",
       "      <td>4</td>\n",
       "      <td>1</td>\n",
       "    </tr>\n",
       "  </tbody>\n",
       "</table>\n",
       "</div>"
      ],
      "text/plain": [
       "                user_id               item_id  ... datetime  weight\n",
       "1  -9223365420690745920   4789011704403477758  ...        0       1\n",
       "2  -9223357012432074795  -3685301030413601284  ...        1       1\n",
       "3  -9223357012432074795  -1040959798245656474  ...        2       1\n",
       "4  -9223331337535253792  -8750332497321603794  ...        3       1\n",
       "5  -9223331337535253792   7353026449734842135  ...        4       1\n",
       "\n",
       "[5 rows x 5 columns]"
      ]
     },
     "execution_count": 58,
     "metadata": {},
     "output_type": "execute_result"
    }
   ],
   "source": [
    "db[Columns.Datetime] = range(len(db))\n",
    "db.head()"
   ]
  },
  {
   "cell_type": "code",
   "execution_count": 36,
   "id": "2618a1a5-fdc3-4a0d-9115-7128d8c743c9",
   "metadata": {},
   "outputs": [],
   "source": [
    "db[Columns.Weight] = 1"
   ]
  },
  {
   "cell_type": "code",
   "execution_count": 59,
   "id": "662ea8e8-81b2-4a23-87d7-06b49086bf57",
   "metadata": {},
   "outputs": [],
   "source": [
    "ds = Dataset.construct(db,cat_item_features=['Artist'], make_dense_item_features=False)"
   ]
  },
  {
   "cell_type": "code",
   "execution_count": 38,
   "id": "58655b60-25a4-4a8c-b6c9-e7b1e1fc633b",
   "metadata": {},
   "outputs": [],
   "source": [
    "from rectools.models.lightfm import LightFMWrapperModel\n",
    "from rectools.models.lightfm import LightFM"
   ]
  },
  {
   "cell_type": "code",
   "execution_count": 61,
   "id": "1c9cae1d-3c09-45bd-b4ac-12629eb32f08",
   "metadata": {},
   "outputs": [],
   "source": [
    "light_fm = LightFM()\n",
    "model = LightFMWrapperModel(light_fm, epochs=300, num_threads=16, verbose=1)"
   ]
  },
  {
   "cell_type": "code",
   "execution_count": 62,
   "id": "47a5f0cd-b6f3-4456-a10d-4c6b15e8b80d",
   "metadata": {},
   "outputs": [
    {
     "name": "stderr",
     "output_type": "stream",
     "text": [
      "Epoch: 100%|██████████████████████████████████████████████████████████████████████████| 300/300 [03:38<00:00,  1.37it/s]\n"
     ]
    },
    {
     "data": {
      "text/plain": [
       "<rectools.models.lightfm.LightFMWrapperModel at 0x7facaf178f40>"
      ]
     },
     "execution_count": 62,
     "metadata": {},
     "output_type": "execute_result"
    }
   ],
   "source": [
    "model.fit(ds)"
   ]
  },
  {
   "cell_type": "code",
   "execution_count": 63,
   "id": "25575d77-e143-41e9-a0df-4b04cb797872",
   "metadata": {},
   "outputs": [
    {
     "name": "stderr",
     "output_type": "stream",
     "text": [
      "/tmp/ipykernel_787/3009147569.py:1: DtypeWarning: Columns (0,1,2,3) have mixed types. Specify dtype option on import or set low_memory=False.\n",
      "  submission = pd.read_csv('sub_music.csv',\n"
     ]
    },
    {
     "data": {
      "text/html": [
       "<div>\n",
       "<style scoped>\n",
       "    .dataframe tbody tr th:only-of-type {\n",
       "        vertical-align: middle;\n",
       "    }\n",
       "\n",
       "    .dataframe tbody tr th {\n",
       "        vertical-align: top;\n",
       "    }\n",
       "\n",
       "    .dataframe thead th {\n",
       "        text-align: right;\n",
       "    }\n",
       "</style>\n",
       "<table border=\"1\" class=\"dataframe\">\n",
       "  <thead>\n",
       "    <tr style=\"text-align: right;\">\n",
       "      <th></th>\n",
       "      <th>user_id</th>\n",
       "      <th>recommended_id_1</th>\n",
       "      <th>recommended_id_2</th>\n",
       "      <th>recommended_id_3</th>\n",
       "    </tr>\n",
       "  </thead>\n",
       "  <tbody>\n",
       "    <tr>\n",
       "      <th>1</th>\n",
       "      <td>-9223331337535253792</td>\n",
       "      <td>-2227263297444998835</td>\n",
       "      <td>-4695036104375440069</td>\n",
       "      <td>-8860367773155756475</td>\n",
       "    </tr>\n",
       "    <tr>\n",
       "      <th>2</th>\n",
       "      <td>-9223315435871723421</td>\n",
       "      <td>-2227263297444998835</td>\n",
       "      <td>-4695036104375440069</td>\n",
       "      <td>-8860367773155756475</td>\n",
       "    </tr>\n",
       "    <tr>\n",
       "      <th>3</th>\n",
       "      <td>-9223312953116183861</td>\n",
       "      <td>-2227263297444998835</td>\n",
       "      <td>-4695036104375440069</td>\n",
       "      <td>-8860367773155756475</td>\n",
       "    </tr>\n",
       "    <tr>\n",
       "      <th>4</th>\n",
       "      <td>-9223189477397287224</td>\n",
       "      <td>-2227263297444998835</td>\n",
       "      <td>-4695036104375440069</td>\n",
       "      <td>-8860367773155756475</td>\n",
       "    </tr>\n",
       "    <tr>\n",
       "      <th>5</th>\n",
       "      <td>-9223099495950652905</td>\n",
       "      <td>-2227263297444998835</td>\n",
       "      <td>-4695036104375440069</td>\n",
       "      <td>-8860367773155756475</td>\n",
       "    </tr>\n",
       "  </tbody>\n",
       "</table>\n",
       "</div>"
      ],
      "text/plain": [
       "                user_id  ...      recommended_id_3\n",
       "1  -9223331337535253792  ...  -8860367773155756475\n",
       "2  -9223315435871723421  ...  -8860367773155756475\n",
       "3  -9223312953116183861  ...  -8860367773155756475\n",
       "4  -9223189477397287224  ...  -8860367773155756475\n",
       "5  -9223099495950652905  ...  -8860367773155756475\n",
       "\n",
       "[5 rows x 4 columns]"
      ]
     },
     "execution_count": 63,
     "metadata": {},
     "output_type": "execute_result"
    }
   ],
   "source": [
    "submission = pd.read_csv('sub_music.csv',\n",
    "                        header=None,\n",
    "                        names=[Columns.User, 'recommended_id_1', 'recommended_id_2', 'recommended_id_3']).iloc[1:]\n",
    "submission.head()"
   ]
  },
  {
   "cell_type": "code",
   "execution_count": 64,
   "id": "e47007cb-614e-47e8-858b-31aee111083e",
   "metadata": {},
   "outputs": [
    {
     "data": {
      "text/html": [
       "<div>\n",
       "<style scoped>\n",
       "    .dataframe tbody tr th:only-of-type {\n",
       "        vertical-align: middle;\n",
       "    }\n",
       "\n",
       "    .dataframe tbody tr th {\n",
       "        vertical-align: top;\n",
       "    }\n",
       "\n",
       "    .dataframe thead th {\n",
       "        text-align: right;\n",
       "    }\n",
       "</style>\n",
       "<table border=\"1\" class=\"dataframe\">\n",
       "  <thead>\n",
       "    <tr style=\"text-align: right;\">\n",
       "      <th></th>\n",
       "      <th>user_id</th>\n",
       "      <th>item_id</th>\n",
       "      <th>score</th>\n",
       "      <th>rank</th>\n",
       "    </tr>\n",
       "  </thead>\n",
       "  <tbody>\n",
       "    <tr>\n",
       "      <th>0</th>\n",
       "      <td>-9223331337535253792</td>\n",
       "      <td>975260989596374069</td>\n",
       "      <td>10.318725</td>\n",
       "      <td>1</td>\n",
       "    </tr>\n",
       "    <tr>\n",
       "      <th>1</th>\n",
       "      <td>-9223331337535253792</td>\n",
       "      <td>-2227263297444998835</td>\n",
       "      <td>10.292910</td>\n",
       "      <td>2</td>\n",
       "    </tr>\n",
       "    <tr>\n",
       "      <th>2</th>\n",
       "      <td>-9223331337535253792</td>\n",
       "      <td>-8860367773155756475</td>\n",
       "      <td>10.281348</td>\n",
       "      <td>3</td>\n",
       "    </tr>\n",
       "    <tr>\n",
       "      <th>3</th>\n",
       "      <td>-9223312953116183861</td>\n",
       "      <td>975260989596374069</td>\n",
       "      <td>11.900080</td>\n",
       "      <td>1</td>\n",
       "    </tr>\n",
       "    <tr>\n",
       "      <th>4</th>\n",
       "      <td>-9223312953116183861</td>\n",
       "      <td>-2227263297444998835</td>\n",
       "      <td>11.885365</td>\n",
       "      <td>2</td>\n",
       "    </tr>\n",
       "    <tr>\n",
       "      <th>...</th>\n",
       "      <td>...</td>\n",
       "      <td>...</td>\n",
       "      <td>...</td>\n",
       "      <td>...</td>\n",
       "    </tr>\n",
       "    <tr>\n",
       "      <th>1166683</th>\n",
       "      <td>9222609400741559907</td>\n",
       "      <td>-8860367773155756475</td>\n",
       "      <td>9.502502</td>\n",
       "      <td>2</td>\n",
       "    </tr>\n",
       "    <tr>\n",
       "      <th>1166684</th>\n",
       "      <td>9222609400741559907</td>\n",
       "      <td>975260989596374069</td>\n",
       "      <td>9.499928</td>\n",
       "      <td>3</td>\n",
       "    </tr>\n",
       "    <tr>\n",
       "      <th>1166685</th>\n",
       "      <td>9223256937547721480</td>\n",
       "      <td>-2227263297444998835</td>\n",
       "      <td>9.505263</td>\n",
       "      <td>1</td>\n",
       "    </tr>\n",
       "    <tr>\n",
       "      <th>1166686</th>\n",
       "      <td>9223256937547721480</td>\n",
       "      <td>-8860367773155756475</td>\n",
       "      <td>9.502502</td>\n",
       "      <td>2</td>\n",
       "    </tr>\n",
       "    <tr>\n",
       "      <th>1166687</th>\n",
       "      <td>9223256937547721480</td>\n",
       "      <td>975260989596374069</td>\n",
       "      <td>9.499928</td>\n",
       "      <td>3</td>\n",
       "    </tr>\n",
       "  </tbody>\n",
       "</table>\n",
       "<p>1166688 rows × 4 columns</p>\n",
       "</div>"
      ],
      "text/plain": [
       "                      user_id               item_id      score  rank\n",
       "0        -9223331337535253792    975260989596374069  10.318725     1\n",
       "1        -9223331337535253792  -2227263297444998835  10.292910     2\n",
       "2        -9223331337535253792  -8860367773155756475  10.281348     3\n",
       "3        -9223312953116183861    975260989596374069  11.900080     1\n",
       "4        -9223312953116183861  -2227263297444998835  11.885365     2\n",
       "...                       ...                   ...        ...   ...\n",
       "1166683   9222609400741559907  -8860367773155756475   9.502502     2\n",
       "1166684   9222609400741559907    975260989596374069   9.499928     3\n",
       "1166685   9223256937547721480  -2227263297444998835   9.505263     1\n",
       "1166686   9223256937547721480  -8860367773155756475   9.502502     2\n",
       "1166687   9223256937547721480    975260989596374069   9.499928     3\n",
       "\n",
       "[1166688 rows x 4 columns]"
      ]
     },
     "execution_count": 64,
     "metadata": {},
     "output_type": "execute_result"
    }
   ],
   "source": [
    "recs = model.recommend(users=submission[Columns.User].unique(),\n",
    "                      dataset=ds,\n",
    "                      k=3,\n",
    "                      filter_viewed=True)\n",
    "recs"
   ]
  },
  {
   "cell_type": "code",
   "execution_count": 65,
   "id": "8fa0f35e-8f60-4d83-8cad-06bb16eda805",
   "metadata": {},
   "outputs": [
    {
     "data": {
      "text/html": [
       "<div>\n",
       "<style scoped>\n",
       "    .dataframe tbody tr th:only-of-type {\n",
       "        vertical-align: middle;\n",
       "    }\n",
       "\n",
       "    .dataframe tbody tr th {\n",
       "        vertical-align: top;\n",
       "    }\n",
       "\n",
       "    .dataframe thead th {\n",
       "        text-align: right;\n",
       "    }\n",
       "</style>\n",
       "<table border=\"1\" class=\"dataframe\">\n",
       "  <thead>\n",
       "    <tr style=\"text-align: right;\">\n",
       "      <th></th>\n",
       "      <th>user_id</th>\n",
       "      <th>item_id</th>\n",
       "      <th>score</th>\n",
       "      <th>rank</th>\n",
       "    </tr>\n",
       "  </thead>\n",
       "  <tbody>\n",
       "    <tr>\n",
       "      <th>0</th>\n",
       "      <td>-9223331337535253792</td>\n",
       "      <td>975260989596374069</td>\n",
       "      <td>10.318725</td>\n",
       "      <td>1</td>\n",
       "    </tr>\n",
       "    <tr>\n",
       "      <th>1</th>\n",
       "      <td>-9223331337535253792</td>\n",
       "      <td>-2227263297444998835</td>\n",
       "      <td>10.292910</td>\n",
       "      <td>2</td>\n",
       "    </tr>\n",
       "    <tr>\n",
       "      <th>2</th>\n",
       "      <td>-9223331337535253792</td>\n",
       "      <td>-8860367773155756475</td>\n",
       "      <td>10.281348</td>\n",
       "      <td>3</td>\n",
       "    </tr>\n",
       "    <tr>\n",
       "      <th>3</th>\n",
       "      <td>-9223312953116183861</td>\n",
       "      <td>975260989596374069</td>\n",
       "      <td>11.900080</td>\n",
       "      <td>1</td>\n",
       "    </tr>\n",
       "    <tr>\n",
       "      <th>4</th>\n",
       "      <td>-9223312953116183861</td>\n",
       "      <td>-2227263297444998835</td>\n",
       "      <td>11.885365</td>\n",
       "      <td>2</td>\n",
       "    </tr>\n",
       "    <tr>\n",
       "      <th>5</th>\n",
       "      <td>-9223312953116183861</td>\n",
       "      <td>-2471246448647356451</td>\n",
       "      <td>11.848369</td>\n",
       "      <td>3</td>\n",
       "    </tr>\n",
       "    <tr>\n",
       "      <th>6</th>\n",
       "      <td>-9223099495950652905</td>\n",
       "      <td>-8860367773155756475</td>\n",
       "      <td>10.833808</td>\n",
       "      <td>1</td>\n",
       "    </tr>\n",
       "    <tr>\n",
       "      <th>7</th>\n",
       "      <td>-9223099495950652905</td>\n",
       "      <td>975260989596374069</td>\n",
       "      <td>10.833379</td>\n",
       "      <td>2</td>\n",
       "    </tr>\n",
       "    <tr>\n",
       "      <th>8</th>\n",
       "      <td>-9223099495950652905</td>\n",
       "      <td>-2227263297444998835</td>\n",
       "      <td>10.799128</td>\n",
       "      <td>3</td>\n",
       "    </tr>\n",
       "    <tr>\n",
       "      <th>9</th>\n",
       "      <td>-9222957206048518287</td>\n",
       "      <td>-8860367773155756475</td>\n",
       "      <td>10.866559</td>\n",
       "      <td>1</td>\n",
       "    </tr>\n",
       "    <tr>\n",
       "      <th>10</th>\n",
       "      <td>-9222957206048518287</td>\n",
       "      <td>975260989596374069</td>\n",
       "      <td>10.812436</td>\n",
       "      <td>2</td>\n",
       "    </tr>\n",
       "    <tr>\n",
       "      <th>11</th>\n",
       "      <td>-9222957206048518287</td>\n",
       "      <td>-2227263297444998835</td>\n",
       "      <td>10.795632</td>\n",
       "      <td>3</td>\n",
       "    </tr>\n",
       "  </tbody>\n",
       "</table>\n",
       "</div>"
      ],
      "text/plain": [
       "                 user_id               item_id      score  rank\n",
       "0   -9223331337535253792    975260989596374069  10.318725     1\n",
       "1   -9223331337535253792  -2227263297444998835  10.292910     2\n",
       "2   -9223331337535253792  -8860367773155756475  10.281348     3\n",
       "3   -9223312953116183861    975260989596374069  11.900080     1\n",
       "4   -9223312953116183861  -2227263297444998835  11.885365     2\n",
       "5   -9223312953116183861  -2471246448647356451  11.848369     3\n",
       "6   -9223099495950652905  -8860367773155756475  10.833808     1\n",
       "7   -9223099495950652905    975260989596374069  10.833379     2\n",
       "8   -9223099495950652905  -2227263297444998835  10.799128     3\n",
       "9   -9222957206048518287  -8860367773155756475  10.866559     1\n",
       "10  -9222957206048518287    975260989596374069  10.812436     2\n",
       "11  -9222957206048518287  -2227263297444998835  10.795632     3"
      ]
     },
     "execution_count": 65,
     "metadata": {},
     "output_type": "execute_result"
    }
   ],
   "source": [
    "recs.head(12)"
   ]
  },
  {
   "cell_type": "code",
   "execution_count": 66,
   "id": "63b20009-b4c5-4abc-b445-579ff527df8f",
   "metadata": {},
   "outputs": [
    {
     "data": {
      "text/plain": [
       "[[975260989596374069, -2227263297444998835, -8860367773155756475],\n",
       " [975260989596374069, -2227263297444998835, -2471246448647356451],\n",
       " [-8860367773155756475, 975260989596374069, -2227263297444998835],\n",
       " [-8860367773155756475, 975260989596374069, -2227263297444998835]]"
      ]
     },
     "execution_count": 66,
     "metadata": {},
     "output_type": "execute_result"
    }
   ],
   "source": [
    "preds = []\n",
    "k = 0\n",
    "lst = []\n",
    "for x in recs[Columns.Item]:\n",
    "    if len(lst) == 3:\n",
    "        preds.append(lst)\n",
    "        lst = []\n",
    "    lst.append(int(x))\n",
    "preds[0:4]"
   ]
  },
  {
   "cell_type": "code",
   "execution_count": 67,
   "id": "d0ad64b0-c008-4921-b293-3a120eaa82cc",
   "metadata": {},
   "outputs": [
    {
     "data": {
      "text/plain": [
       "[-2227263297444998835, 975260989596374069, -8860367773155756475]"
      ]
     },
     "execution_count": 67,
     "metadata": {},
     "output_type": "execute_result"
    }
   ],
   "source": [
    "preds[12333]"
   ]
  },
  {
   "cell_type": "code",
   "execution_count": 68,
   "id": "0b898f53-a496-417b-9f61-2d5429f67928",
   "metadata": {},
   "outputs": [
    {
     "data": {
      "text/plain": [
       "item_id\n",
       "-2227263297444998835    11092\n",
       "-8860367773155756475    10989\n",
       "-4695036104375440069    10672\n",
       " 975260989596374069     10050\n",
       "-2471246448647356451     9335\n",
       "                        ...  \n",
       "-5528982133512414188        1\n",
       " 1947470080445177495        1\n",
       "-6601807804298322716        1\n",
       "-4184003162396588276        1\n",
       " 2123071927435539666        1\n",
       "Name: count, Length: 712748, dtype: int64"
      ]
     },
     "execution_count": 68,
     "metadata": {},
     "output_type": "execute_result"
    }
   ],
   "source": [
    "db['item_id'].value_counts()"
   ]
  },
  {
   "cell_type": "code",
   "execution_count": 69,
   "id": "d260ac21-19cb-405c-9990-da4d43b5fb91",
   "metadata": {},
   "outputs": [],
   "source": [
    "for i, x in enumerate(preds):\n",
    "    c1, c2, c3 = x\n",
    "    submission.iloc[i, 1] = c1\n",
    "    submission.iloc[i, 2] = c2\n",
    "    submission.iloc[i, 3] = c3"
   ]
  },
  {
   "cell_type": "code",
   "execution_count": 70,
   "id": "9ec16ba7-0544-49f0-9fc3-92e571df6616",
   "metadata": {},
   "outputs": [
    {
     "data": {
      "text/html": [
       "<div>\n",
       "<style scoped>\n",
       "    .dataframe tbody tr th:only-of-type {\n",
       "        vertical-align: middle;\n",
       "    }\n",
       "\n",
       "    .dataframe tbody tr th {\n",
       "        vertical-align: top;\n",
       "    }\n",
       "\n",
       "    .dataframe thead th {\n",
       "        text-align: right;\n",
       "    }\n",
       "</style>\n",
       "<table border=\"1\" class=\"dataframe\">\n",
       "  <thead>\n",
       "    <tr style=\"text-align: right;\">\n",
       "      <th></th>\n",
       "      <th>user_id</th>\n",
       "      <th>recommended_id_1</th>\n",
       "      <th>recommended_id_2</th>\n",
       "      <th>recommended_id_3</th>\n",
       "    </tr>\n",
       "  </thead>\n",
       "  <tbody>\n",
       "    <tr>\n",
       "      <th>1</th>\n",
       "      <td>-9223331337535253792</td>\n",
       "      <td>975260989596374069</td>\n",
       "      <td>-2227263297444998835</td>\n",
       "      <td>-8860367773155756475</td>\n",
       "    </tr>\n",
       "    <tr>\n",
       "      <th>2</th>\n",
       "      <td>-9223315435871723421</td>\n",
       "      <td>975260989596374069</td>\n",
       "      <td>-2227263297444998835</td>\n",
       "      <td>-2471246448647356451</td>\n",
       "    </tr>\n",
       "    <tr>\n",
       "      <th>3</th>\n",
       "      <td>-9223312953116183861</td>\n",
       "      <td>-8860367773155756475</td>\n",
       "      <td>975260989596374069</td>\n",
       "      <td>-2227263297444998835</td>\n",
       "    </tr>\n",
       "    <tr>\n",
       "      <th>4</th>\n",
       "      <td>-9223189477397287224</td>\n",
       "      <td>-8860367773155756475</td>\n",
       "      <td>975260989596374069</td>\n",
       "      <td>-2227263297444998835</td>\n",
       "    </tr>\n",
       "    <tr>\n",
       "      <th>5</th>\n",
       "      <td>-9223099495950652905</td>\n",
       "      <td>-8860367773155756475</td>\n",
       "      <td>-2227263297444998835</td>\n",
       "      <td>975260989596374069</td>\n",
       "    </tr>\n",
       "  </tbody>\n",
       "</table>\n",
       "</div>"
      ],
      "text/plain": [
       "                user_id  ...      recommended_id_3\n",
       "1  -9223331337535253792  ...  -8860367773155756475\n",
       "2  -9223315435871723421  ...  -2471246448647356451\n",
       "3  -9223312953116183861  ...  -2227263297444998835\n",
       "4  -9223189477397287224  ...  -2227263297444998835\n",
       "5  -9223099495950652905  ...    975260989596374069\n",
       "\n",
       "[5 rows x 4 columns]"
      ]
     },
     "execution_count": 70,
     "metadata": {},
     "output_type": "execute_result"
    }
   ],
   "source": [
    "submission.head()"
   ]
  },
  {
   "cell_type": "code",
   "execution_count": 72,
   "id": "2febd51e-327c-4855-8569-d76efbae5c10",
   "metadata": {},
   "outputs": [
    {
     "data": {
      "text/plain": [
       "recommended_id_1\n",
       "-2227263297444998835    265389\n",
       "-8860367773155756475     71496\n",
       "975260989596374069       50731\n",
       "-4695036104375440069      1136\n",
       "-980265047486972863        127\n",
       "-2471246448647356451        15\n",
       "-7222806403183889433         1\n",
       "-3606742973010966116         1\n",
       "Name: count, dtype: int64"
      ]
     },
     "execution_count": 72,
     "metadata": {},
     "output_type": "execute_result"
    }
   ],
   "source": [
    "submission['recommended_id_1'].value_counts()"
   ]
  },
  {
   "cell_type": "code",
   "execution_count": 73,
   "id": "54ae8233-e3b6-44f0-aa62-2aa957c7dd3f",
   "metadata": {},
   "outputs": [],
   "source": [
    "submission = submission.rename(columns={'user_id': 'userId'})"
   ]
  },
  {
   "cell_type": "code",
   "execution_count": 74,
   "id": "3eca5eb3-cc97-43a2-be84-4c35547db1f2",
   "metadata": {},
   "outputs": [],
   "source": [
    "submission.to_csv('res_music2.csv',\n",
    "                 index=False)"
   ]
  }
 ],
 "metadata": {
  "kernelspec": {
   "display_name": "Python 3 (ipykernel)",
   "language": "python",
   "name": "python3"
  },
  "language_info": {
   "codemirror_mode": {
    "name": "ipython",
    "version": 3
   },
   "file_extension": ".py",
   "mimetype": "text/x-python",
   "name": "python",
   "nbconvert_exporter": "python",
   "pygments_lexer": "ipython3",
   "version": "3.10.12"
  }
 },
 "nbformat": 4,
 "nbformat_minor": 5
}
